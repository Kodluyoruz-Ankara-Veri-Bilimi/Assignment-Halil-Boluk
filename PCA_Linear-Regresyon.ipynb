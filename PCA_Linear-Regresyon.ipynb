{
 "cells": [
  {
   "cell_type": "code",
   "execution_count": 180,
   "metadata": {},
   "outputs": [],
   "source": [
    "import pandas as pd \n",
    "import seaborn as sns\n",
    "from matplotlib import pyplot as plt\n",
    "from sklearn import preprocessing\n",
    "import pylab\n",
    "import scipy.stats as stats\n",
    "from scipy.stats import shapiro\n",
    "import scipy.stats as stats \n",
    "import statsmodels.stats.api as sms\n",
    "import numpy as np \n",
    "from scipy.stats import levene\n",
    "from scipy.stats import f_oneway\n",
    "from scipy.stats import pearsonr\n",
    "import statsmodels.formula.api as smf\n",
    "from sklearn.decomposition import PCA\n",
    "from sklearn.preprocessing import scale\n",
    "from sklearn.model_selection import train_test_split, cross_val_score, cross_val_predict\n",
    "from statsmodels.stats.outliers_influence import variance_inflation_factor\n",
    "from scipy.stats import shapiro\n",
    "from patsy import dmatrices\n",
    "from sklearn.linear_model import LinearRegression\n",
    "from sklearn.metrics import mean_squared_error,r2_score\n",
    "from sklearn.decomposition import PCA\n",
    "from sklearn.preprocessing import scale\n",
    "import statsmodels.api as sm\n",
    "from sklearn.model_selection import train_test_split, cross_val_score, cross_val_predict"
   ]
  },
  {
   "cell_type": "code",
   "execution_count": 102,
   "metadata": {},
   "outputs": [],
   "source": [
    "class Information():\n",
    "    def __init__(self,data):\n",
    "        self.data=data\n",
    "    def Describe(self):\n",
    "        print(self.data.describe().T)\n",
    "    def Info(self):\n",
    "        print(self.data.info())\n",
    "    def Head(self):\n",
    "        print(self.data.head())\n",
    "    def ColumnTypes(self):\n",
    "        print(self.data.dtypes)\n",
    "    def NullValues(self):\n",
    "        print(self.data.isnull().values.any())\n",
    "        print(self.data.isnull().sum())\n",
    "    def Count(self):\n",
    "        print(self.data.count())\n",
    "    def Num_data(self):\n",
    "        print(self.data.select_dtypes(include=['float64','int64']))\n",
    "    def Cat_data(self):\n",
    "        print(self.data.select_dtypes(include=[\"object\"]))"
   ]
  },
  {
   "cell_type": "code",
   "execution_count": 103,
   "metadata": {},
   "outputs": [],
   "source": [
    "class Visualization():\n",
    "    def __init__(self,data):\n",
    "        self.data = data\n",
    "        \n",
    "    def barplot(self,x,y,z = None):\n",
    "        bar = sns.barplot(x = x, y = y, hue = z, data = self.data);\n",
    "        return bar\n",
    "    \n",
    "    def catplot(self, x, y, z = None):\n",
    "        cat = sns.catplot(x = x, y = y, hue = z, data = self.data);\n",
    "        return cat\n",
    "    \n",
    "    def histogram(self,x, y = None):\n",
    "        hist = sns.FacetGrid(self.data, hue = y, height = 5, xlim = (0, 10000)).map(sns.kdeplot, x, shade= True).add_legend();\n",
    "        return hist\n",
    "    \n",
    "    def boxplot(self,x, y = None, z = None):\n",
    "        box = sns.boxplot(x = x, y = y, hue = z, data=self.data);\n",
    "        return box\n",
    "    \n",
    "    def jointplot(self,x,y):\n",
    "        joint = sns.jointplot(x = x, y = y ,data = self.data, kind = \"reg\");\n",
    "        return joint\n",
    "    \n",
    "    def scatter(self, x, y, z = None, s = None):\n",
    "        sca = sns.scatterplot(x = x, y = y, hue=z, size = s, data = self.data);\n",
    "        return sca\n",
    "    \n",
    "    def lmplot(self, x, y, z = None, c = None, r = None):\n",
    "        lm = sns.lmplot(x = x, y = y, hue = z, col = c, row = r, data = self.data);\n",
    "        return lm\n",
    "    \n",
    "    def pairplot(self, x = None):\n",
    "        pair = sns.pairplot(self.data, kind = \"reg\", hue = x);\n",
    "        return pair\n",
    "    \n",
    "    def heatmap(self):\n",
    "        heat = sns.heatmap(self.data, annot = True, fmt = \"d\");\n",
    "        return heat \n",
    "    \n",
    "    def lineplot(self, x, y, z = None, s = None):\n",
    "        lin = sns.lineplot(x = x, y = y, hue = z, style = s, markers = True,  dashes = False, data = self.data);\n",
    "        return lin\n",
    "    \n",
    "    def countplot(self, column):\n",
    "        count = sns.countplot(self.data.iloc[:,column], data = self.data, palette = \"Set3\");\n",
    "        return count\n",
    "    \n",
    "    def cross_tab(self,x,y):\n",
    "        cross = pd.crosstab(x, y)\n",
    "        return cross\n",
    "\n",
    "    def PieChart(self):\n",
    "        pie = plt.pie(self.data, labels = self.data.index, counterclock = False, shadow = True)\n",
    "        return pie\n",
    "    \n",
    "    def violin(self, x = None, y = None, z = None):\n",
    "        vio = sns.catplot(x = x, y = y, hue = z, kind = \"violin\", data = self.data);\n",
    "        return vio"
   ]
  },
  {
   "cell_type": "code",
   "execution_count": 104,
   "metadata": {},
   "outputs": [],
   "source": [
    "class PreProcessing:\n",
    "    \n",
    "    def __init__(self, data):\n",
    "        self.data = data\n",
    "\n",
    "    def Delete_col(self, inplace):\n",
    "        del_col = self.data.dropna(axis=1, inplace=inplace)\n",
    "        return del_col\n",
    "    \n",
    "    def Delete_row(self, inplace):\n",
    "        del_row = self.data.dropna(axis=0, inplace=inplace)\n",
    "        return del_row\n",
    "    \n",
    "    def calc_vif(self):\n",
    "        vif[\"variables\"] = self.data.columns\n",
    "        vif[\"VIF\"] = [variance_inflation_factor(self.data.values, i) for i in range(self.data.shape[1])]\n",
    "        return(vif)\n",
    "\n",
    "    def Dummy(self):\n",
    "        dummy_data = pd.get_dummies(self.data)\n",
    "        return dummy_data\n",
    "\n",
    "    def DropColumn(self, column):\n",
    "        drop =  self.data.drop(column, inplace=True, axis=1)\n",
    "        return drop\n",
    "\n",
    "    def Label_Encoder(self, column):\n",
    "        label_encoder = preprocessing.LabelEncoder()\n",
    "        LE = label_encoder.fit_transform(self.data[column])\n",
    "        return LE"
   ]
  },
  {
   "cell_type": "code",
   "execution_count": 105,
   "metadata": {},
   "outputs": [],
   "source": [
    "class statistic():\n",
    "    def __init__(self, data):\n",
    "        self.data=data\n",
    "        \n",
    "        \n",
    "    def shapiro(self):\n",
    "        for col in self.data.columns[1:]:\n",
    "            if self.data[col].dtypes != object :\n",
    "                stat, p = shapiro(self.data[col])\n",
    "                print('Shapiro Statistics=%.3f, p=%.3f' % (stat, p))\n",
    "            alpha = 0.05\n",
    "            if p > alpha:\n",
    "                print(col)\n",
    "                print('\\033[1m'+ col + '\\033[0m','Örneklem Normal (Gaussian) dağılımdan gelmektedir (fail to Reject) \\n')\n",
    "            else:\n",
    "                print('\\033[1m'+ col + \":\"+'\\033[0m','Örneklem Normal (Gaussian) dağılımdan gelmemektedir (Reject H0)\\n')\n",
    "        \n",
    "        \n",
    "    def spearmanr(self, col_1, col_2):\n",
    "        stats.spearmanr(self.data[col_1],self.data[col_2])\n",
    "        alpha=0.05\n",
    "        if(p>alpha):\n",
    "            print('Statistics=%.3f, p=%.3f' % (stat,p), 'aralarındaki bu ilişki anlamsızdır') \n",
    "        else:\n",
    "            print('Statistics=%.3f, p=%.3f' % (stat,p), 'aralarında bir ilişki vardır ve bu ilişki anlamlıdır')\n",
    "        \n",
    "    def leneve(self, col_1, col_2):\n",
    "        stats.levene(self.data[col_1],self.data[col_2])\n",
    "        print('Statistics=%.3f, p=%.3f' % (stat,p))\n",
    "        \n",
    "        \n",
    "    def ttest_one(self,column,popmean):\n",
    "        stat, p = self.stats.ttest_one(self.data[column], popmean = popmean)\n",
    "        print(\"Statistics:%3.3f, p=%.3f \" % (stat,p))\n",
    "        \n",
    "    def ttest_two(self, col_1, col_2):\n",
    "        columns = pd.concat([self.data[col_1],self.data[col_2]], axis=1)\n",
    "        stat, p=stats.ttest_ind(columns[col_1],columns[col_1], equal_var = False )\n",
    "        print(\"Statistics:%3.3f, p=%.3f \" % (stat,p))\n",
    "        \n",
    "        "
   ]
  },
  {
   "cell_type": "code",
   "execution_count": 106,
   "metadata": {},
   "outputs": [],
   "source": [
    "import pandas as pd\n",
    "from pandas import Series, DataFrame\n",
    "data1 = pd.read_excel(\"HW_Data_Set.xlsx\")\n",
    "data=data1.copy()"
   ]
  },
  {
   "cell_type": "code",
   "execution_count": 107,
   "metadata": {},
   "outputs": [],
   "source": [
    "inf_data = Information(data)"
   ]
  },
  {
   "cell_type": "code",
   "execution_count": 108,
   "metadata": {},
   "outputs": [
    {
     "name": "stdout",
     "output_type": "stream",
     "text": [
      "<class 'pandas.core.frame.DataFrame'>\n",
      "RangeIndex: 6167 entries, 0 to 6166\n",
      "Columns: 136 entries, ind_5 to 90_target\n",
      "dtypes: float64(88), int64(45), object(3)\n",
      "memory usage: 6.4+ MB\n",
      "None\n"
     ]
    }
   ],
   "source": [
    "inf_data.Info()"
   ]
  },
  {
   "cell_type": "code",
   "execution_count": 109,
   "metadata": {},
   "outputs": [
    {
     "name": "stdout",
     "output_type": "stream",
     "text": [
      "            count       mean        std         min        25%        50%  \\\n",
      "ind_5      6167.0  -0.803146  23.624403 -131.000000 -14.000000   0.000000   \n",
      "ind_6      6167.0  -0.803470  23.624144 -131.000000 -14.000000   0.000000   \n",
      "ind_8      6167.0  48.388890  36.388526    0.000000  14.285714  50.000000   \n",
      "ind_9      6167.0  48.289282  36.478009    0.000000  14.285714  50.000000   \n",
      "ind_10     6167.0   0.099609  60.414625 -100.000000 -50.000000   0.000000   \n",
      "...           ...        ...        ...         ...        ...        ...   \n",
      "ind_426    6167.0   0.498188   0.228547    0.000000   0.323783   0.495192   \n",
      "ind_428    6167.0   0.490174   0.150483    0.083530   0.379894   0.487078   \n",
      "20_target  6167.0  -0.057102  14.834497  -15.780588 -15.350354   0.000000   \n",
      "50_target  6167.0  -2.906358  34.559778  -37.142889 -36.208094 -34.267756   \n",
      "90_target  6167.0  -3.315072  36.841541  -38.573858 -37.695273 -35.788391   \n",
      "\n",
      "                 75%         max  \n",
      "ind_5      13.000000   76.000000  \n",
      "ind_6      13.000000   76.000000  \n",
      "ind_8      85.714286  100.000000  \n",
      "ind_9      85.714286  100.000000  \n",
      "ind_10     57.142857  100.000000  \n",
      "...              ...         ...  \n",
      "ind_426     0.675730    1.000000  \n",
      "ind_428     0.601508    0.868534  \n",
      "20_target  15.385945   15.768767  \n",
      "50_target  35.879524   37.038694  \n",
      "90_target  37.521892   38.465649  \n",
      "\n",
      "[133 rows x 8 columns]\n"
     ]
    }
   ],
   "source": [
    "inf_data.Describe()"
   ]
  },
  {
   "cell_type": "code",
   "execution_count": 110,
   "metadata": {},
   "outputs": [
    {
     "name": "stdout",
     "output_type": "stream",
     "text": [
      "   ind_5  ind_6  ind_8      ind_9     ind_10     ind_12     ind_13  ind_14  \\\n",
      "0     19     17  100.0  85.714286  14.285714  72.363515  60.808814   23.80   \n",
      "1     24     19  100.0  78.571429  21.428571  74.275883  64.366798   11.45   \n",
      "2     30     24  100.0  71.428571  28.571429  75.140402  65.915803    8.75   \n",
      "3     37     30  100.0  64.285714  35.714286  76.677846  68.584234    7.80   \n",
      "4     41     37  100.0  57.142857  42.857143  81.603007  76.455495   14.90   \n",
      "\n",
      "   ind_15  ind_16  ...  ind_416  ind_418  ind_420  ind_422  ind_424   ind_426  \\\n",
      "0   17.62   11.73  ...    -49.6      -54     -152     -353      1.0  0.498547   \n",
      "1   18.16   12.22  ...    -55.6      -60     -158     -359      1.0  0.537088   \n",
      "2   17.86   12.28  ...    -58.4      -60     -160     -362      1.0  0.615169   \n",
      "3   14.76   12.61  ...    -61.8      -65     -166     -367      1.0  0.661517   \n",
      "4   11.92   14.25  ...    -79.8      -86     -186     -388      1.0  0.747204   \n",
      "\n",
      "    ind_428  20_target  50_target  90_target  \n",
      "0  0.701906  15.135802  35.625252  36.997753  \n",
      "1  0.690833  15.143348  35.643013  37.016198  \n",
      "2  0.693040  15.146870  35.651301 -37.024805  \n",
      "3  0.673418  15.153283   0.000000 -37.040483  \n",
      "4  0.700522 -15.179065 -35.727079 -37.103503  \n",
      "\n",
      "[5 rows x 136 columns]\n"
     ]
    }
   ],
   "source": [
    "inf_data.Head()"
   ]
  },
  {
   "cell_type": "code",
   "execution_count": 111,
   "metadata": {},
   "outputs": [
    {
     "name": "stdout",
     "output_type": "stream",
     "text": [
      "ind_5          int64\n",
      "ind_6          int64\n",
      "ind_8        float64\n",
      "ind_9        float64\n",
      "ind_10       float64\n",
      "              ...   \n",
      "ind_426      float64\n",
      "ind_428      float64\n",
      "20_target    float64\n",
      "50_target    float64\n",
      "90_target    float64\n",
      "Length: 136, dtype: object\n"
     ]
    }
   ],
   "source": [
    "inf_data.ColumnTypes()"
   ]
  },
  {
   "cell_type": "code",
   "execution_count": 112,
   "metadata": {},
   "outputs": [
    {
     "name": "stdout",
     "output_type": "stream",
     "text": [
      "False\n",
      "ind_5        0\n",
      "ind_6        0\n",
      "ind_8        0\n",
      "ind_9        0\n",
      "ind_10       0\n",
      "            ..\n",
      "ind_426      0\n",
      "ind_428      0\n",
      "20_target    0\n",
      "50_target    0\n",
      "90_target    0\n",
      "Length: 136, dtype: int64\n"
     ]
    }
   ],
   "source": [
    "inf_data.NullValues()"
   ]
  },
  {
   "cell_type": "code",
   "execution_count": 113,
   "metadata": {},
   "outputs": [
    {
     "name": "stdout",
     "output_type": "stream",
     "text": [
      "ind_5        6167\n",
      "ind_6        6167\n",
      "ind_8        6167\n",
      "ind_9        6167\n",
      "ind_10       6167\n",
      "             ... \n",
      "ind_426      6167\n",
      "ind_428      6167\n",
      "20_target    6167\n",
      "50_target    6167\n",
      "90_target    6167\n",
      "Length: 136, dtype: int64\n"
     ]
    }
   ],
   "source": [
    "inf_data.Count()"
   ]
  },
  {
   "cell_type": "code",
   "execution_count": 114,
   "metadata": {},
   "outputs": [
    {
     "name": "stdout",
     "output_type": "stream",
     "text": [
      "      ind_5  ind_6       ind_8      ind_9     ind_10     ind_12     ind_13  \\\n",
      "0        19     17  100.000000  85.714286  14.285714  72.363515  60.808814   \n",
      "1        24     19  100.000000  78.571429  21.428571  74.275883  64.366798   \n",
      "2        30     24  100.000000  71.428571  28.571429  75.140402  65.915803   \n",
      "3        37     30  100.000000  64.285714  35.714286  76.677846  68.584234   \n",
      "4        41     37  100.000000  57.142857  42.857143  81.603007  76.455495   \n",
      "...     ...    ...         ...        ...        ...        ...        ...   \n",
      "6162     27     31   57.142857  28.571429  28.571429  60.010531  32.362582   \n",
      "6163     22     27   50.000000  21.428571  28.571429  60.209998  32.914628   \n",
      "6164     19     22   42.857143  14.285714  28.571429  64.329611  43.550592   \n",
      "6165     19     19  100.000000   7.142857  92.857143  69.027764  54.130755   \n",
      "6166     19     19   92.857143   0.000000  92.857143  65.157180  45.524973   \n",
      "\n",
      "      ind_14  ind_15  ind_16  ...   ind_412  ind_414  ind_416  ind_418  \\\n",
      "0      23.80   17.62   11.73  ...  0.002371      2.0    -49.6      -54   \n",
      "1      11.45   18.16   12.22  ...  0.003074      0.8    -55.6      -60   \n",
      "2       8.75   17.86   12.28  ...  0.003561      2.7    -58.4      -60   \n",
      "3       7.80   14.76   12.61  ...  0.004366      0.9    -61.8      -65   \n",
      "4      14.90   11.92   14.25  ...  0.004198      0.1    -79.8      -86   \n",
      "...      ...     ...     ...  ...       ...      ...      ...      ...   \n",
      "6162    9.70    9.38   13.66  ...  0.004633     14.7    -28.2      -40   \n",
      "6163    7.65    8.84   11.79  ...  0.008511     14.3    -28.6      -41   \n",
      "6164    8.95    9.06   10.30  ...  0.008848      5.7    -37.2      -49   \n",
      "6165   13.55   10.36   10.55  ...  0.008940      1.4    -48.9      -61   \n",
      "6166   11.45   10.16    9.68  ...  0.008685      6.3    -44.0      -56   \n",
      "\n",
      "       ind_424   ind_426   ind_428  20_target  50_target  90_target  \n",
      "0     1.000000  0.498547  0.701906  15.135802  35.625252  36.997753  \n",
      "1     1.000000  0.537088  0.690833  15.143348  35.643013  37.016198  \n",
      "2     1.000000  0.615169  0.693040  15.146870  35.651301 -37.024805  \n",
      "3     1.000000  0.661517  0.673418  15.153283   0.000000 -37.040483  \n",
      "4     1.000000  0.747204  0.700522 -15.179065 -35.727079 -37.103503  \n",
      "...        ...       ...       ...        ...        ...        ...  \n",
      "6162  0.270270  0.840000  0.600846  14.673247 -34.536532 -35.867088  \n",
      "6163  0.000000  0.737470  0.527673  14.673750 -34.537716 -35.868318  \n",
      "6164  0.769231  0.632107  0.551759 -14.684566 -34.563173 -35.894755  \n",
      "6165  1.000000  0.733010  0.591584 -14.699280 -34.597806 -35.930723  \n",
      "6166  1.000000  0.687500  0.593936 -14.693117 -34.583301 -35.915659  \n",
      "\n",
      "[6167 rows x 133 columns]\n"
     ]
    }
   ],
   "source": [
    "inf_data.Num_data()"
   ]
  },
  {
   "cell_type": "code",
   "execution_count": 115,
   "metadata": {},
   "outputs": [
    {
     "name": "stdout",
     "output_type": "stream",
     "text": [
      "     ind_109 ind_420 ind_422\n",
      "0      GREEN    -152    -353\n",
      "1      GREEN    -158    -359\n",
      "2      GREEN    -160    -362\n",
      "3      GREEN    -166    -367\n",
      "4      GREEN    -186    -388\n",
      "...      ...     ...     ...\n",
      "6162     RED     -11    -270\n",
      "6163     RED     -12    -271\n",
      "6164   GREEN     -21    -280\n",
      "6165   GREEN     -33    -292\n",
      "6166   GREEN     -28    -288\n",
      "\n",
      "[6167 rows x 3 columns]\n"
     ]
    }
   ],
   "source": [
    "inf_data.Cat_data()"
   ]
  },
  {
   "cell_type": "code",
   "execution_count": 116,
   "metadata": {},
   "outputs": [
    {
     "name": "stdout",
     "output_type": "stream",
     "text": [
      "     ind_109 ind_420 ind_422\n",
      "0      GREEN    -152    -353\n",
      "1      GREEN    -158    -359\n",
      "2      GREEN    -160    -362\n",
      "3      GREEN    -166    -367\n",
      "4      GREEN    -186    -388\n",
      "...      ...     ...     ...\n",
      "6162     RED     -11    -270\n",
      "6163     RED     -12    -271\n",
      "6164   GREEN     -21    -280\n",
      "6165   GREEN     -33    -292\n",
      "6166   GREEN     -28    -288\n",
      "\n",
      "[6167 rows x 3 columns]\n"
     ]
    }
   ],
   "source": [
    "data_cat = inf_data.Cat_data\n",
    "data_cat()"
   ]
  },
  {
   "cell_type": "code",
   "execution_count": 121,
   "metadata": {},
   "outputs": [
    {
     "data": {
      "text/plain": [
       "False"
      ]
     },
     "execution_count": 121,
     "metadata": {},
     "output_type": "execute_result"
    }
   ],
   "source": [
    "data.isnull().values.any()"
   ]
  },
  {
   "cell_type": "code",
   "execution_count": 122,
   "metadata": {},
   "outputs": [],
   "source": [
    "data = data.replace('?',np.nan)"
   ]
  },
  {
   "cell_type": "code",
   "execution_count": 123,
   "metadata": {},
   "outputs": [],
   "source": [
    "data = data.dropna(axis=0, subset=['ind_422'])\n",
    "data = data.dropna(axis=0, subset=['ind_420'])"
   ]
  },
  {
   "cell_type": "code",
   "execution_count": 124,
   "metadata": {},
   "outputs": [
    {
     "data": {
      "text/html": [
       "<div>\n",
       "<style scoped>\n",
       "    .dataframe tbody tr th:only-of-type {\n",
       "        vertical-align: middle;\n",
       "    }\n",
       "\n",
       "    .dataframe tbody tr th {\n",
       "        vertical-align: top;\n",
       "    }\n",
       "\n",
       "    .dataframe thead th {\n",
       "        text-align: right;\n",
       "    }\n",
       "</style>\n",
       "<table border=\"1\" class=\"dataframe\">\n",
       "  <thead>\n",
       "    <tr style=\"text-align: right;\">\n",
       "      <th></th>\n",
       "      <th>ind_5</th>\n",
       "      <th>ind_6</th>\n",
       "      <th>ind_8</th>\n",
       "      <th>ind_9</th>\n",
       "      <th>ind_10</th>\n",
       "      <th>ind_12</th>\n",
       "      <th>ind_13</th>\n",
       "      <th>ind_14</th>\n",
       "      <th>ind_15</th>\n",
       "      <th>ind_16</th>\n",
       "      <th>...</th>\n",
       "      <th>ind_416</th>\n",
       "      <th>ind_418</th>\n",
       "      <th>ind_420</th>\n",
       "      <th>ind_422</th>\n",
       "      <th>ind_424</th>\n",
       "      <th>ind_426</th>\n",
       "      <th>ind_428</th>\n",
       "      <th>20_target</th>\n",
       "      <th>50_target</th>\n",
       "      <th>90_target</th>\n",
       "    </tr>\n",
       "  </thead>\n",
       "  <tbody>\n",
       "    <tr>\n",
       "      <th>ind_5</th>\n",
       "      <td>1.000000</td>\n",
       "      <td>0.990115</td>\n",
       "      <td>0.547483</td>\n",
       "      <td>-0.518832</td>\n",
       "      <td>0.644215</td>\n",
       "      <td>0.820822</td>\n",
       "      <td>0.777479</td>\n",
       "      <td>-0.045803</td>\n",
       "      <td>-0.067730</td>\n",
       "      <td>-0.092888</td>\n",
       "      <td>...</td>\n",
       "      <td>-0.324564</td>\n",
       "      <td>-0.587574</td>\n",
       "      <td>-0.317846</td>\n",
       "      <td>-0.329648</td>\n",
       "      <td>0.078010</td>\n",
       "      <td>0.621468</td>\n",
       "      <td>0.816156</td>\n",
       "      <td>0.052210</td>\n",
       "      <td>0.081537</td>\n",
       "      <td>0.073107</td>\n",
       "    </tr>\n",
       "    <tr>\n",
       "      <th>ind_6</th>\n",
       "      <td>0.990115</td>\n",
       "      <td>1.000000</td>\n",
       "      <td>0.521053</td>\n",
       "      <td>-0.479383</td>\n",
       "      <td>0.604380</td>\n",
       "      <td>0.767504</td>\n",
       "      <td>0.722541</td>\n",
       "      <td>-0.034480</td>\n",
       "      <td>-0.057776</td>\n",
       "      <td>-0.086007</td>\n",
       "      <td>...</td>\n",
       "      <td>-0.299246</td>\n",
       "      <td>-0.536726</td>\n",
       "      <td>-0.320019</td>\n",
       "      <td>-0.331171</td>\n",
       "      <td>0.023117</td>\n",
       "      <td>0.562515</td>\n",
       "      <td>0.809119</td>\n",
       "      <td>0.052347</td>\n",
       "      <td>0.081567</td>\n",
       "      <td>0.073585</td>\n",
       "    </tr>\n",
       "    <tr>\n",
       "      <th>ind_8</th>\n",
       "      <td>0.547483</td>\n",
       "      <td>0.521053</td>\n",
       "      <td>1.000000</td>\n",
       "      <td>-0.369578</td>\n",
       "      <td>0.826063</td>\n",
       "      <td>0.585052</td>\n",
       "      <td>0.480337</td>\n",
       "      <td>0.146128</td>\n",
       "      <td>0.119751</td>\n",
       "      <td>0.016810</td>\n",
       "      <td>...</td>\n",
       "      <td>-0.268403</td>\n",
       "      <td>-0.421079</td>\n",
       "      <td>-0.144740</td>\n",
       "      <td>-0.159317</td>\n",
       "      <td>0.142893</td>\n",
       "      <td>0.595508</td>\n",
       "      <td>0.458084</td>\n",
       "      <td>-0.016948</td>\n",
       "      <td>0.001962</td>\n",
       "      <td>-0.011621</td>\n",
       "    </tr>\n",
       "    <tr>\n",
       "      <th>ind_9</th>\n",
       "      <td>-0.518832</td>\n",
       "      <td>-0.479383</td>\n",
       "      <td>-0.369578</td>\n",
       "      <td>1.000000</td>\n",
       "      <td>-0.828971</td>\n",
       "      <td>-0.602616</td>\n",
       "      <td>-0.560931</td>\n",
       "      <td>0.260789</td>\n",
       "      <td>0.263371</td>\n",
       "      <td>0.172689</td>\n",
       "      <td>...</td>\n",
       "      <td>0.346778</td>\n",
       "      <td>0.504424</td>\n",
       "      <td>0.131142</td>\n",
       "      <td>0.160855</td>\n",
       "      <td>-0.180249</td>\n",
       "      <td>-0.639987</td>\n",
       "      <td>-0.439689</td>\n",
       "      <td>-0.023754</td>\n",
       "      <td>-0.005618</td>\n",
       "      <td>0.013177</td>\n",
       "    </tr>\n",
       "    <tr>\n",
       "      <th>ind_10</th>\n",
       "      <td>0.644215</td>\n",
       "      <td>0.604380</td>\n",
       "      <td>0.826063</td>\n",
       "      <td>-0.828971</td>\n",
       "      <td>1.000000</td>\n",
       "      <td>0.717645</td>\n",
       "      <td>0.629334</td>\n",
       "      <td>-0.070218</td>\n",
       "      <td>-0.087661</td>\n",
       "      <td>-0.094621</td>\n",
       "      <td>...</td>\n",
       "      <td>-0.371881</td>\n",
       "      <td>-0.559393</td>\n",
       "      <td>-0.166660</td>\n",
       "      <td>-0.193456</td>\n",
       "      <td>0.195333</td>\n",
       "      <td>0.746605</td>\n",
       "      <td>0.542404</td>\n",
       "      <td>0.004207</td>\n",
       "      <td>0.004588</td>\n",
       "      <td>-0.014987</td>\n",
       "    </tr>\n",
       "    <tr>\n",
       "      <th>...</th>\n",
       "      <td>...</td>\n",
       "      <td>...</td>\n",
       "      <td>...</td>\n",
       "      <td>...</td>\n",
       "      <td>...</td>\n",
       "      <td>...</td>\n",
       "      <td>...</td>\n",
       "      <td>...</td>\n",
       "      <td>...</td>\n",
       "      <td>...</td>\n",
       "      <td>...</td>\n",
       "      <td>...</td>\n",
       "      <td>...</td>\n",
       "      <td>...</td>\n",
       "      <td>...</td>\n",
       "      <td>...</td>\n",
       "      <td>...</td>\n",
       "      <td>...</td>\n",
       "      <td>...</td>\n",
       "      <td>...</td>\n",
       "      <td>...</td>\n",
       "    </tr>\n",
       "    <tr>\n",
       "      <th>ind_426</th>\n",
       "      <td>0.621468</td>\n",
       "      <td>0.562515</td>\n",
       "      <td>0.595508</td>\n",
       "      <td>-0.639987</td>\n",
       "      <td>0.746605</td>\n",
       "      <td>0.775348</td>\n",
       "      <td>0.699661</td>\n",
       "      <td>-0.095876</td>\n",
       "      <td>-0.100360</td>\n",
       "      <td>-0.087605</td>\n",
       "      <td>...</td>\n",
       "      <td>-0.370107</td>\n",
       "      <td>-0.583362</td>\n",
       "      <td>-0.170756</td>\n",
       "      <td>-0.204524</td>\n",
       "      <td>0.341137</td>\n",
       "      <td>1.000000</td>\n",
       "      <td>0.580932</td>\n",
       "      <td>0.023080</td>\n",
       "      <td>0.016545</td>\n",
       "      <td>0.003437</td>\n",
       "    </tr>\n",
       "    <tr>\n",
       "      <th>ind_428</th>\n",
       "      <td>0.816156</td>\n",
       "      <td>0.809119</td>\n",
       "      <td>0.458084</td>\n",
       "      <td>-0.439689</td>\n",
       "      <td>0.542404</td>\n",
       "      <td>0.808156</td>\n",
       "      <td>0.729684</td>\n",
       "      <td>-0.006137</td>\n",
       "      <td>-0.019001</td>\n",
       "      <td>-0.035110</td>\n",
       "      <td>...</td>\n",
       "      <td>-0.281079</td>\n",
       "      <td>-0.459643</td>\n",
       "      <td>-0.327875</td>\n",
       "      <td>-0.358164</td>\n",
       "      <td>0.189822</td>\n",
       "      <td>0.580932</td>\n",
       "      <td>1.000000</td>\n",
       "      <td>0.041987</td>\n",
       "      <td>0.068053</td>\n",
       "      <td>0.058844</td>\n",
       "    </tr>\n",
       "    <tr>\n",
       "      <th>20_target</th>\n",
       "      <td>0.052210</td>\n",
       "      <td>0.052347</td>\n",
       "      <td>-0.016948</td>\n",
       "      <td>-0.023754</td>\n",
       "      <td>0.004207</td>\n",
       "      <td>0.034990</td>\n",
       "      <td>0.041982</td>\n",
       "      <td>0.001557</td>\n",
       "      <td>0.001838</td>\n",
       "      <td>0.025399</td>\n",
       "      <td>...</td>\n",
       "      <td>-0.004466</td>\n",
       "      <td>-0.044326</td>\n",
       "      <td>-0.001936</td>\n",
       "      <td>-0.035405</td>\n",
       "      <td>0.002466</td>\n",
       "      <td>0.023080</td>\n",
       "      <td>0.041987</td>\n",
       "      <td>1.000000</td>\n",
       "      <td>0.372915</td>\n",
       "      <td>0.344982</td>\n",
       "    </tr>\n",
       "    <tr>\n",
       "      <th>50_target</th>\n",
       "      <td>0.081537</td>\n",
       "      <td>0.081567</td>\n",
       "      <td>0.001962</td>\n",
       "      <td>-0.005618</td>\n",
       "      <td>0.004588</td>\n",
       "      <td>0.065218</td>\n",
       "      <td>0.057671</td>\n",
       "      <td>0.075191</td>\n",
       "      <td>0.087573</td>\n",
       "      <td>0.107244</td>\n",
       "      <td>...</td>\n",
       "      <td>0.041196</td>\n",
       "      <td>-0.114093</td>\n",
       "      <td>-0.030940</td>\n",
       "      <td>0.003000</td>\n",
       "      <td>-0.001411</td>\n",
       "      <td>0.016545</td>\n",
       "      <td>0.068053</td>\n",
       "      <td>0.372915</td>\n",
       "      <td>1.000000</td>\n",
       "      <td>0.935970</td>\n",
       "    </tr>\n",
       "    <tr>\n",
       "      <th>90_target</th>\n",
       "      <td>0.073107</td>\n",
       "      <td>0.073585</td>\n",
       "      <td>-0.011621</td>\n",
       "      <td>0.013177</td>\n",
       "      <td>-0.014987</td>\n",
       "      <td>0.051887</td>\n",
       "      <td>0.048264</td>\n",
       "      <td>0.081735</td>\n",
       "      <td>0.090027</td>\n",
       "      <td>0.112978</td>\n",
       "      <td>...</td>\n",
       "      <td>0.041301</td>\n",
       "      <td>-0.108483</td>\n",
       "      <td>-0.024791</td>\n",
       "      <td>0.002561</td>\n",
       "      <td>-0.008374</td>\n",
       "      <td>0.003437</td>\n",
       "      <td>0.058844</td>\n",
       "      <td>0.344982</td>\n",
       "      <td>0.935970</td>\n",
       "      <td>1.000000</td>\n",
       "    </tr>\n",
       "  </tbody>\n",
       "</table>\n",
       "<p>135 rows × 135 columns</p>\n",
       "</div>"
      ],
      "text/plain": [
       "              ind_5     ind_6     ind_8     ind_9    ind_10    ind_12  \\\n",
       "ind_5      1.000000  0.990115  0.547483 -0.518832  0.644215  0.820822   \n",
       "ind_6      0.990115  1.000000  0.521053 -0.479383  0.604380  0.767504   \n",
       "ind_8      0.547483  0.521053  1.000000 -0.369578  0.826063  0.585052   \n",
       "ind_9     -0.518832 -0.479383 -0.369578  1.000000 -0.828971 -0.602616   \n",
       "ind_10     0.644215  0.604380  0.826063 -0.828971  1.000000  0.717645   \n",
       "...             ...       ...       ...       ...       ...       ...   \n",
       "ind_426    0.621468  0.562515  0.595508 -0.639987  0.746605  0.775348   \n",
       "ind_428    0.816156  0.809119  0.458084 -0.439689  0.542404  0.808156   \n",
       "20_target  0.052210  0.052347 -0.016948 -0.023754  0.004207  0.034990   \n",
       "50_target  0.081537  0.081567  0.001962 -0.005618  0.004588  0.065218   \n",
       "90_target  0.073107  0.073585 -0.011621  0.013177 -0.014987  0.051887   \n",
       "\n",
       "             ind_13    ind_14    ind_15    ind_16  ...   ind_416   ind_418  \\\n",
       "ind_5      0.777479 -0.045803 -0.067730 -0.092888  ... -0.324564 -0.587574   \n",
       "ind_6      0.722541 -0.034480 -0.057776 -0.086007  ... -0.299246 -0.536726   \n",
       "ind_8      0.480337  0.146128  0.119751  0.016810  ... -0.268403 -0.421079   \n",
       "ind_9     -0.560931  0.260789  0.263371  0.172689  ...  0.346778  0.504424   \n",
       "ind_10     0.629334 -0.070218 -0.087661 -0.094621  ... -0.371881 -0.559393   \n",
       "...             ...       ...       ...       ...  ...       ...       ...   \n",
       "ind_426    0.699661 -0.095876 -0.100360 -0.087605  ... -0.370107 -0.583362   \n",
       "ind_428    0.729684 -0.006137 -0.019001 -0.035110  ... -0.281079 -0.459643   \n",
       "20_target  0.041982  0.001557  0.001838  0.025399  ... -0.004466 -0.044326   \n",
       "50_target  0.057671  0.075191  0.087573  0.107244  ...  0.041196 -0.114093   \n",
       "90_target  0.048264  0.081735  0.090027  0.112978  ...  0.041301 -0.108483   \n",
       "\n",
       "            ind_420   ind_422   ind_424   ind_426   ind_428  20_target  \\\n",
       "ind_5     -0.317846 -0.329648  0.078010  0.621468  0.816156   0.052210   \n",
       "ind_6     -0.320019 -0.331171  0.023117  0.562515  0.809119   0.052347   \n",
       "ind_8     -0.144740 -0.159317  0.142893  0.595508  0.458084  -0.016948   \n",
       "ind_9      0.131142  0.160855 -0.180249 -0.639987 -0.439689  -0.023754   \n",
       "ind_10    -0.166660 -0.193456  0.195333  0.746605  0.542404   0.004207   \n",
       "...             ...       ...       ...       ...       ...        ...   \n",
       "ind_426   -0.170756 -0.204524  0.341137  1.000000  0.580932   0.023080   \n",
       "ind_428   -0.327875 -0.358164  0.189822  0.580932  1.000000   0.041987   \n",
       "20_target -0.001936 -0.035405  0.002466  0.023080  0.041987   1.000000   \n",
       "50_target -0.030940  0.003000 -0.001411  0.016545  0.068053   0.372915   \n",
       "90_target -0.024791  0.002561 -0.008374  0.003437  0.058844   0.344982   \n",
       "\n",
       "           50_target  90_target  \n",
       "ind_5       0.081537   0.073107  \n",
       "ind_6       0.081567   0.073585  \n",
       "ind_8       0.001962  -0.011621  \n",
       "ind_9      -0.005618   0.013177  \n",
       "ind_10      0.004588  -0.014987  \n",
       "...              ...        ...  \n",
       "ind_426     0.016545   0.003437  \n",
       "ind_428     0.068053   0.058844  \n",
       "20_target   0.372915   0.344982  \n",
       "50_target   1.000000   0.935970  \n",
       "90_target   0.935970   1.000000  \n",
       "\n",
       "[135 rows x 135 columns]"
      ]
     },
     "execution_count": 124,
     "metadata": {},
     "output_type": "execute_result"
    }
   ],
   "source": [
    "data.corr()"
   ]
  },
  {
   "cell_type": "code",
   "execution_count": 125,
   "metadata": {},
   "outputs": [
    {
     "data": {
      "text/html": [
       "<div>\n",
       "<style scoped>\n",
       "    .dataframe tbody tr th:only-of-type {\n",
       "        vertical-align: middle;\n",
       "    }\n",
       "\n",
       "    .dataframe tbody tr th {\n",
       "        vertical-align: top;\n",
       "    }\n",
       "\n",
       "    .dataframe thead th {\n",
       "        text-align: right;\n",
       "    }\n",
       "</style>\n",
       "<table border=\"1\" class=\"dataframe\">\n",
       "  <thead>\n",
       "    <tr style=\"text-align: right;\">\n",
       "      <th></th>\n",
       "      <th>ind_5</th>\n",
       "      <th>ind_6</th>\n",
       "      <th>ind_8</th>\n",
       "      <th>ind_9</th>\n",
       "      <th>ind_10</th>\n",
       "      <th>ind_12</th>\n",
       "      <th>ind_13</th>\n",
       "      <th>ind_14</th>\n",
       "      <th>ind_15</th>\n",
       "      <th>ind_16</th>\n",
       "      <th>...</th>\n",
       "      <th>ind_420</th>\n",
       "      <th>ind_422</th>\n",
       "      <th>ind_424</th>\n",
       "      <th>ind_426</th>\n",
       "      <th>ind_428</th>\n",
       "      <th>20_target</th>\n",
       "      <th>50_target</th>\n",
       "      <th>90_target</th>\n",
       "      <th>ind_109_GREEN</th>\n",
       "      <th>ind_109_RED</th>\n",
       "    </tr>\n",
       "  </thead>\n",
       "  <tbody>\n",
       "    <tr>\n",
       "      <th>0</th>\n",
       "      <td>19</td>\n",
       "      <td>17</td>\n",
       "      <td>100.000000</td>\n",
       "      <td>85.714286</td>\n",
       "      <td>14.285714</td>\n",
       "      <td>72.363515</td>\n",
       "      <td>60.808814</td>\n",
       "      <td>23.80</td>\n",
       "      <td>17.62</td>\n",
       "      <td>11.73</td>\n",
       "      <td>...</td>\n",
       "      <td>-152.0</td>\n",
       "      <td>-353.0</td>\n",
       "      <td>1.000000</td>\n",
       "      <td>0.498547</td>\n",
       "      <td>0.701906</td>\n",
       "      <td>15.135802</td>\n",
       "      <td>35.625252</td>\n",
       "      <td>36.997753</td>\n",
       "      <td>1</td>\n",
       "      <td>0</td>\n",
       "    </tr>\n",
       "    <tr>\n",
       "      <th>1</th>\n",
       "      <td>24</td>\n",
       "      <td>19</td>\n",
       "      <td>100.000000</td>\n",
       "      <td>78.571429</td>\n",
       "      <td>21.428571</td>\n",
       "      <td>74.275883</td>\n",
       "      <td>64.366798</td>\n",
       "      <td>11.45</td>\n",
       "      <td>18.16</td>\n",
       "      <td>12.22</td>\n",
       "      <td>...</td>\n",
       "      <td>-158.0</td>\n",
       "      <td>-359.0</td>\n",
       "      <td>1.000000</td>\n",
       "      <td>0.537088</td>\n",
       "      <td>0.690833</td>\n",
       "      <td>15.143348</td>\n",
       "      <td>35.643013</td>\n",
       "      <td>37.016198</td>\n",
       "      <td>1</td>\n",
       "      <td>0</td>\n",
       "    </tr>\n",
       "    <tr>\n",
       "      <th>2</th>\n",
       "      <td>30</td>\n",
       "      <td>24</td>\n",
       "      <td>100.000000</td>\n",
       "      <td>71.428571</td>\n",
       "      <td>28.571429</td>\n",
       "      <td>75.140402</td>\n",
       "      <td>65.915803</td>\n",
       "      <td>8.75</td>\n",
       "      <td>17.86</td>\n",
       "      <td>12.28</td>\n",
       "      <td>...</td>\n",
       "      <td>-160.0</td>\n",
       "      <td>-362.0</td>\n",
       "      <td>1.000000</td>\n",
       "      <td>0.615169</td>\n",
       "      <td>0.693040</td>\n",
       "      <td>15.146870</td>\n",
       "      <td>35.651301</td>\n",
       "      <td>-37.024805</td>\n",
       "      <td>1</td>\n",
       "      <td>0</td>\n",
       "    </tr>\n",
       "    <tr>\n",
       "      <th>3</th>\n",
       "      <td>37</td>\n",
       "      <td>30</td>\n",
       "      <td>100.000000</td>\n",
       "      <td>64.285714</td>\n",
       "      <td>35.714286</td>\n",
       "      <td>76.677846</td>\n",
       "      <td>68.584234</td>\n",
       "      <td>7.80</td>\n",
       "      <td>14.76</td>\n",
       "      <td>12.61</td>\n",
       "      <td>...</td>\n",
       "      <td>-166.0</td>\n",
       "      <td>-367.0</td>\n",
       "      <td>1.000000</td>\n",
       "      <td>0.661517</td>\n",
       "      <td>0.673418</td>\n",
       "      <td>15.153283</td>\n",
       "      <td>0.000000</td>\n",
       "      <td>-37.040483</td>\n",
       "      <td>1</td>\n",
       "      <td>0</td>\n",
       "    </tr>\n",
       "    <tr>\n",
       "      <th>4</th>\n",
       "      <td>41</td>\n",
       "      <td>37</td>\n",
       "      <td>100.000000</td>\n",
       "      <td>57.142857</td>\n",
       "      <td>42.857143</td>\n",
       "      <td>81.603007</td>\n",
       "      <td>76.455495</td>\n",
       "      <td>14.90</td>\n",
       "      <td>11.92</td>\n",
       "      <td>14.25</td>\n",
       "      <td>...</td>\n",
       "      <td>-186.0</td>\n",
       "      <td>-388.0</td>\n",
       "      <td>1.000000</td>\n",
       "      <td>0.747204</td>\n",
       "      <td>0.700522</td>\n",
       "      <td>-15.179065</td>\n",
       "      <td>-35.727079</td>\n",
       "      <td>-37.103503</td>\n",
       "      <td>1</td>\n",
       "      <td>0</td>\n",
       "    </tr>\n",
       "    <tr>\n",
       "      <th>...</th>\n",
       "      <td>...</td>\n",
       "      <td>...</td>\n",
       "      <td>...</td>\n",
       "      <td>...</td>\n",
       "      <td>...</td>\n",
       "      <td>...</td>\n",
       "      <td>...</td>\n",
       "      <td>...</td>\n",
       "      <td>...</td>\n",
       "      <td>...</td>\n",
       "      <td>...</td>\n",
       "      <td>...</td>\n",
       "      <td>...</td>\n",
       "      <td>...</td>\n",
       "      <td>...</td>\n",
       "      <td>...</td>\n",
       "      <td>...</td>\n",
       "      <td>...</td>\n",
       "      <td>...</td>\n",
       "      <td>...</td>\n",
       "      <td>...</td>\n",
       "    </tr>\n",
       "    <tr>\n",
       "      <th>6162</th>\n",
       "      <td>27</td>\n",
       "      <td>31</td>\n",
       "      <td>57.142857</td>\n",
       "      <td>28.571429</td>\n",
       "      <td>28.571429</td>\n",
       "      <td>60.010531</td>\n",
       "      <td>32.362582</td>\n",
       "      <td>9.70</td>\n",
       "      <td>9.38</td>\n",
       "      <td>13.66</td>\n",
       "      <td>...</td>\n",
       "      <td>-11.0</td>\n",
       "      <td>-270.0</td>\n",
       "      <td>0.270270</td>\n",
       "      <td>0.840000</td>\n",
       "      <td>0.600846</td>\n",
       "      <td>14.673247</td>\n",
       "      <td>-34.536532</td>\n",
       "      <td>-35.867088</td>\n",
       "      <td>0</td>\n",
       "      <td>1</td>\n",
       "    </tr>\n",
       "    <tr>\n",
       "      <th>6163</th>\n",
       "      <td>22</td>\n",
       "      <td>27</td>\n",
       "      <td>50.000000</td>\n",
       "      <td>21.428571</td>\n",
       "      <td>28.571429</td>\n",
       "      <td>60.209998</td>\n",
       "      <td>32.914628</td>\n",
       "      <td>7.65</td>\n",
       "      <td>8.84</td>\n",
       "      <td>11.79</td>\n",
       "      <td>...</td>\n",
       "      <td>-12.0</td>\n",
       "      <td>-271.0</td>\n",
       "      <td>0.000000</td>\n",
       "      <td>0.737470</td>\n",
       "      <td>0.527673</td>\n",
       "      <td>14.673750</td>\n",
       "      <td>-34.537716</td>\n",
       "      <td>-35.868318</td>\n",
       "      <td>0</td>\n",
       "      <td>1</td>\n",
       "    </tr>\n",
       "    <tr>\n",
       "      <th>6164</th>\n",
       "      <td>19</td>\n",
       "      <td>22</td>\n",
       "      <td>42.857143</td>\n",
       "      <td>14.285714</td>\n",
       "      <td>28.571429</td>\n",
       "      <td>64.329611</td>\n",
       "      <td>43.550592</td>\n",
       "      <td>8.95</td>\n",
       "      <td>9.06</td>\n",
       "      <td>10.30</td>\n",
       "      <td>...</td>\n",
       "      <td>-21.0</td>\n",
       "      <td>-280.0</td>\n",
       "      <td>0.769231</td>\n",
       "      <td>0.632107</td>\n",
       "      <td>0.551759</td>\n",
       "      <td>-14.684566</td>\n",
       "      <td>-34.563173</td>\n",
       "      <td>-35.894755</td>\n",
       "      <td>1</td>\n",
       "      <td>0</td>\n",
       "    </tr>\n",
       "    <tr>\n",
       "      <th>6165</th>\n",
       "      <td>19</td>\n",
       "      <td>19</td>\n",
       "      <td>100.000000</td>\n",
       "      <td>7.142857</td>\n",
       "      <td>92.857143</td>\n",
       "      <td>69.027764</td>\n",
       "      <td>54.130755</td>\n",
       "      <td>13.55</td>\n",
       "      <td>10.36</td>\n",
       "      <td>10.55</td>\n",
       "      <td>...</td>\n",
       "      <td>-33.0</td>\n",
       "      <td>-292.0</td>\n",
       "      <td>1.000000</td>\n",
       "      <td>0.733010</td>\n",
       "      <td>0.591584</td>\n",
       "      <td>-14.699280</td>\n",
       "      <td>-34.597806</td>\n",
       "      <td>-35.930723</td>\n",
       "      <td>1</td>\n",
       "      <td>0</td>\n",
       "    </tr>\n",
       "    <tr>\n",
       "      <th>6166</th>\n",
       "      <td>19</td>\n",
       "      <td>19</td>\n",
       "      <td>92.857143</td>\n",
       "      <td>0.000000</td>\n",
       "      <td>92.857143</td>\n",
       "      <td>65.157180</td>\n",
       "      <td>45.524973</td>\n",
       "      <td>11.45</td>\n",
       "      <td>10.16</td>\n",
       "      <td>9.68</td>\n",
       "      <td>...</td>\n",
       "      <td>-28.0</td>\n",
       "      <td>-288.0</td>\n",
       "      <td>1.000000</td>\n",
       "      <td>0.687500</td>\n",
       "      <td>0.593936</td>\n",
       "      <td>-14.693117</td>\n",
       "      <td>-34.583301</td>\n",
       "      <td>-35.915659</td>\n",
       "      <td>1</td>\n",
       "      <td>0</td>\n",
       "    </tr>\n",
       "  </tbody>\n",
       "</table>\n",
       "<p>5126 rows × 137 columns</p>\n",
       "</div>"
      ],
      "text/plain": [
       "      ind_5  ind_6       ind_8      ind_9     ind_10     ind_12     ind_13  \\\n",
       "0        19     17  100.000000  85.714286  14.285714  72.363515  60.808814   \n",
       "1        24     19  100.000000  78.571429  21.428571  74.275883  64.366798   \n",
       "2        30     24  100.000000  71.428571  28.571429  75.140402  65.915803   \n",
       "3        37     30  100.000000  64.285714  35.714286  76.677846  68.584234   \n",
       "4        41     37  100.000000  57.142857  42.857143  81.603007  76.455495   \n",
       "...     ...    ...         ...        ...        ...        ...        ...   \n",
       "6162     27     31   57.142857  28.571429  28.571429  60.010531  32.362582   \n",
       "6163     22     27   50.000000  21.428571  28.571429  60.209998  32.914628   \n",
       "6164     19     22   42.857143  14.285714  28.571429  64.329611  43.550592   \n",
       "6165     19     19  100.000000   7.142857  92.857143  69.027764  54.130755   \n",
       "6166     19     19   92.857143   0.000000  92.857143  65.157180  45.524973   \n",
       "\n",
       "      ind_14  ind_15  ind_16  ...  ind_420  ind_422   ind_424   ind_426  \\\n",
       "0      23.80   17.62   11.73  ...   -152.0   -353.0  1.000000  0.498547   \n",
       "1      11.45   18.16   12.22  ...   -158.0   -359.0  1.000000  0.537088   \n",
       "2       8.75   17.86   12.28  ...   -160.0   -362.0  1.000000  0.615169   \n",
       "3       7.80   14.76   12.61  ...   -166.0   -367.0  1.000000  0.661517   \n",
       "4      14.90   11.92   14.25  ...   -186.0   -388.0  1.000000  0.747204   \n",
       "...      ...     ...     ...  ...      ...      ...       ...       ...   \n",
       "6162    9.70    9.38   13.66  ...    -11.0   -270.0  0.270270  0.840000   \n",
       "6163    7.65    8.84   11.79  ...    -12.0   -271.0  0.000000  0.737470   \n",
       "6164    8.95    9.06   10.30  ...    -21.0   -280.0  0.769231  0.632107   \n",
       "6165   13.55   10.36   10.55  ...    -33.0   -292.0  1.000000  0.733010   \n",
       "6166   11.45   10.16    9.68  ...    -28.0   -288.0  1.000000  0.687500   \n",
       "\n",
       "       ind_428  20_target  50_target  90_target  ind_109_GREEN  ind_109_RED  \n",
       "0     0.701906  15.135802  35.625252  36.997753              1            0  \n",
       "1     0.690833  15.143348  35.643013  37.016198              1            0  \n",
       "2     0.693040  15.146870  35.651301 -37.024805              1            0  \n",
       "3     0.673418  15.153283   0.000000 -37.040483              1            0  \n",
       "4     0.700522 -15.179065 -35.727079 -37.103503              1            0  \n",
       "...        ...        ...        ...        ...            ...          ...  \n",
       "6162  0.600846  14.673247 -34.536532 -35.867088              0            1  \n",
       "6163  0.527673  14.673750 -34.537716 -35.868318              0            1  \n",
       "6164  0.551759 -14.684566 -34.563173 -35.894755              1            0  \n",
       "6165  0.591584 -14.699280 -34.597806 -35.930723              1            0  \n",
       "6166  0.593936 -14.693117 -34.583301 -35.915659              1            0  \n",
       "\n",
       "[5126 rows x 137 columns]"
      ]
     },
     "execution_count": 125,
     "metadata": {},
     "output_type": "execute_result"
    }
   ],
   "source": [
    "dummy_data = pd.get_dummies(data)\n",
    "data = dummy_data\n",
    "data"
   ]
  },
  {
   "cell_type": "code",
   "execution_count": 126,
   "metadata": {},
   "outputs": [],
   "source": [
    "data = data.drop(columns=['20_target', '50_target'])"
   ]
  },
  {
   "cell_type": "code",
   "execution_count": 127,
   "metadata": {},
   "outputs": [],
   "source": [
    "viz_data = Visualization(data)"
   ]
  },
  {
   "cell_type": "code",
   "execution_count": 128,
   "metadata": {},
   "outputs": [
    {
     "data": {
      "text/plain": [
       "<matplotlib.axes._subplots.AxesSubplot at 0x1dbecab2548>"
      ]
     },
     "execution_count": 128,
     "metadata": {},
     "output_type": "execute_result"
    },
    {
     "data": {
      "image/png": "[encoded data removed]",
      "text/plain": [
       "<Figure size 432x288 with 1 Axes>"
      ]
     },
     "metadata": {
      "needs_background": "light"
     },
     "output_type": "display_data"
    }
   ],
   "source": [
    "sns.kdeplot(data[\"90_target\"])"
   ]
  },
  {
   "cell_type": "code",
   "execution_count": 129,
   "metadata": {},
   "outputs": [
    {
     "data": {
      "text/plain": [
       "ind_5            0.073107\n",
       "ind_6            0.073585\n",
       "ind_8            0.011621\n",
       "ind_9            0.013177\n",
       "ind_10           0.014987\n",
       "                   ...   \n",
       "ind_426          0.003437\n",
       "ind_428          0.058844\n",
       "90_target        1.000000\n",
       "ind_109_GREEN    0.026945\n",
       "ind_109_RED      0.026945\n",
       "Name: 90_target, Length: 135, dtype: float64"
      ]
     },
     "execution_count": 129,
     "metadata": {},
     "output_type": "execute_result"
    }
   ],
   "source": [
    "cor = data.corr()[\"90_target\"].abs()\n",
    "cor"
   ]
  },
  {
   "cell_type": "code",
   "execution_count": 130,
   "metadata": {},
   "outputs": [
    {
     "data": {
      "text/plain": [
       "Index(['90_target', 'ind_18', 'ind_324', 'ind_412', 'ind_17', 'ind_315',\n",
       "       'ind_16', 'ind_418', 'ind_77', 'ind_332'],\n",
       "      dtype='object')"
      ]
     },
     "execution_count": 130,
     "metadata": {},
     "output_type": "execute_result"
    }
   ],
   "source": [
    "corr = cor.nlargest(10).index\n",
    "corr"
   ]
  },
  {
   "cell_type": "code",
   "execution_count": 131,
   "metadata": {},
   "outputs": [
    {
     "data": {
      "text/plain": [
       "<seaborn.axisgrid.JointGrid at 0x1dbf0e53448>"
      ]
     },
     "execution_count": 131,
     "metadata": {},
     "output_type": "execute_result"
    },
    {
     "data": {
      "image/png": "[encoded data removed]",
      "text/plain": [
       "<Figure size 432x432 with 3 Axes>"
      ]
     },
     "metadata": {
      "needs_background": "light"
     },
     "output_type": "display_data"
    }
   ],
   "source": [
    "viz_data.jointplot(x=\"ind_18\",y=\"90_target\")"
   ]
  },
  {
   "cell_type": "code",
   "execution_count": 132,
   "metadata": {},
   "outputs": [
    {
     "data": {
      "text/plain": [
       "<seaborn.axisgrid.JointGrid at 0x1dbf105e6c8>"
      ]
     },
     "execution_count": 132,
     "metadata": {},
     "output_type": "execute_result"
    },
    {
     "data": {
      "image/png": "[encoded data removed]",
      "text/plain": [
       "<Figure size 432x432 with 3 Axes>"
      ]
     },
     "metadata": {
      "needs_background": "light"
     },
     "output_type": "display_data"
    }
   ],
   "source": [
    "viz_data.jointplot(x=\"ind_17\",y=\"90_target\")"
   ]
  },
  {
   "cell_type": "code",
   "execution_count": 133,
   "metadata": {},
   "outputs": [
    {
     "data": {
      "text/plain": [
       "<seaborn.axisgrid.JointGrid at 0x1dbf125ff88>"
      ]
     },
     "execution_count": 133,
     "metadata": {},
     "output_type": "execute_result"
    },
    {
     "data": {
      "image/png": "[encoded data removed]",
      "text/plain": [
       "<Figure size 432x432 with 3 Axes>"
      ]
     },
     "metadata": {
      "needs_background": "light"
     },
     "output_type": "display_data"
    }
   ],
   "source": [
    "viz_data.jointplot(x=\"ind_412\",y=\"90_target\")"
   ]
  },
  {
   "cell_type": "code",
   "execution_count": 134,
   "metadata": {},
   "outputs": [
    {
     "data": {
      "text/plain": [
       "<seaborn.axisgrid.JointGrid at 0x1dbea2f9108>"
      ]
     },
     "execution_count": 134,
     "metadata": {},
     "output_type": "execute_result"
    },
    {
     "data": {
      "image/png": "[encoded data removed]",
      "text/plain": [
       "<Figure size 432x432 with 3 Axes>"
      ]
     },
     "metadata": {
      "needs_background": "light"
     },
     "output_type": "display_data"
    }
   ],
   "source": [
    "viz_data.jointplot(x=\"ind_315\",y=\"90_target\")"
   ]
  },
  {
   "cell_type": "code",
   "execution_count": 135,
   "metadata": {},
   "outputs": [
    {
     "data": {
      "text/plain": [
       "<seaborn.axisgrid.JointGrid at 0x1dbea19b948>"
      ]
     },
     "execution_count": 135,
     "metadata": {},
     "output_type": "execute_result"
    },
    {
     "data": {
      "image/png": "[encoded data removed]",
      "text/plain": [
       "<Figure size 432x432 with 3 Axes>"
      ]
     },
     "metadata": {
      "needs_background": "light"
     },
     "output_type": "display_data"
    }
   ],
   "source": [
    "viz_data.jointplot(x=\"ind_324\",y=\"90_target\")"
   ]
  },
  {
   "cell_type": "code",
   "execution_count": 136,
   "metadata": {},
   "outputs": [
    {
     "data": {
      "text/html": [
       "<div>\n",
       "<style scoped>\n",
       "    .dataframe tbody tr th:only-of-type {\n",
       "        vertical-align: middle;\n",
       "    }\n",
       "\n",
       "    .dataframe tbody tr th {\n",
       "        vertical-align: top;\n",
       "    }\n",
       "\n",
       "    .dataframe thead th {\n",
       "        text-align: right;\n",
       "    }\n",
       "</style>\n",
       "<table border=\"1\" class=\"dataframe\">\n",
       "  <thead>\n",
       "    <tr style=\"text-align: right;\">\n",
       "      <th></th>\n",
       "      <th>ind_18</th>\n",
       "      <th>ind_324</th>\n",
       "      <th>ind_412</th>\n",
       "      <th>ind_17</th>\n",
       "      <th>ind_315</th>\n",
       "      <th>ind_16</th>\n",
       "      <th>ind_418</th>\n",
       "      <th>ind_77</th>\n",
       "      <th>ind_332</th>\n",
       "    </tr>\n",
       "  </thead>\n",
       "  <tbody>\n",
       "    <tr>\n",
       "      <th>ind_18</th>\n",
       "      <td>1.000000</td>\n",
       "      <td>-0.247839</td>\n",
       "      <td>-0.037236</td>\n",
       "      <td>0.519406</td>\n",
       "      <td>-0.308114</td>\n",
       "      <td>0.397056</td>\n",
       "      <td>-0.364201</td>\n",
       "      <td>0.087033</td>\n",
       "      <td>0.081775</td>\n",
       "    </tr>\n",
       "    <tr>\n",
       "      <th>ind_324</th>\n",
       "      <td>-0.247839</td>\n",
       "      <td>1.000000</td>\n",
       "      <td>-0.271897</td>\n",
       "      <td>-0.129447</td>\n",
       "      <td>0.339597</td>\n",
       "      <td>-0.064688</td>\n",
       "      <td>0.412388</td>\n",
       "      <td>-0.396448</td>\n",
       "      <td>-0.180743</td>\n",
       "    </tr>\n",
       "    <tr>\n",
       "      <th>ind_412</th>\n",
       "      <td>-0.037236</td>\n",
       "      <td>-0.271897</td>\n",
       "      <td>1.000000</td>\n",
       "      <td>-0.047126</td>\n",
       "      <td>-0.028020</td>\n",
       "      <td>-0.031548</td>\n",
       "      <td>-0.317183</td>\n",
       "      <td>0.422127</td>\n",
       "      <td>0.116092</td>\n",
       "    </tr>\n",
       "    <tr>\n",
       "      <th>ind_17</th>\n",
       "      <td>0.519406</td>\n",
       "      <td>-0.129447</td>\n",
       "      <td>-0.047126</td>\n",
       "      <td>1.000000</td>\n",
       "      <td>-0.161937</td>\n",
       "      <td>0.921632</td>\n",
       "      <td>-0.403946</td>\n",
       "      <td>-0.004318</td>\n",
       "      <td>0.022079</td>\n",
       "    </tr>\n",
       "    <tr>\n",
       "      <th>ind_315</th>\n",
       "      <td>-0.308114</td>\n",
       "      <td>0.339597</td>\n",
       "      <td>-0.028020</td>\n",
       "      <td>-0.161937</td>\n",
       "      <td>1.000000</td>\n",
       "      <td>-0.145599</td>\n",
       "      <td>0.162454</td>\n",
       "      <td>-0.246071</td>\n",
       "      <td>-0.057487</td>\n",
       "    </tr>\n",
       "    <tr>\n",
       "      <th>ind_16</th>\n",
       "      <td>0.397056</td>\n",
       "      <td>-0.064688</td>\n",
       "      <td>-0.031548</td>\n",
       "      <td>0.921632</td>\n",
       "      <td>-0.145599</td>\n",
       "      <td>1.000000</td>\n",
       "      <td>-0.339586</td>\n",
       "      <td>-0.006383</td>\n",
       "      <td>0.001329</td>\n",
       "    </tr>\n",
       "    <tr>\n",
       "      <th>ind_418</th>\n",
       "      <td>-0.364201</td>\n",
       "      <td>0.412388</td>\n",
       "      <td>-0.317183</td>\n",
       "      <td>-0.403946</td>\n",
       "      <td>0.162454</td>\n",
       "      <td>-0.339586</td>\n",
       "      <td>1.000000</td>\n",
       "      <td>-0.393054</td>\n",
       "      <td>-0.170422</td>\n",
       "    </tr>\n",
       "    <tr>\n",
       "      <th>ind_77</th>\n",
       "      <td>0.087033</td>\n",
       "      <td>-0.396448</td>\n",
       "      <td>0.422127</td>\n",
       "      <td>-0.004318</td>\n",
       "      <td>-0.246071</td>\n",
       "      <td>-0.006383</td>\n",
       "      <td>-0.393054</td>\n",
       "      <td>1.000000</td>\n",
       "      <td>0.316005</td>\n",
       "    </tr>\n",
       "    <tr>\n",
       "      <th>ind_332</th>\n",
       "      <td>0.081775</td>\n",
       "      <td>-0.180743</td>\n",
       "      <td>0.116092</td>\n",
       "      <td>0.022079</td>\n",
       "      <td>-0.057487</td>\n",
       "      <td>0.001329</td>\n",
       "      <td>-0.170422</td>\n",
       "      <td>0.316005</td>\n",
       "      <td>1.000000</td>\n",
       "    </tr>\n",
       "  </tbody>\n",
       "</table>\n",
       "</div>"
      ],
      "text/plain": [
       "           ind_18   ind_324   ind_412    ind_17   ind_315    ind_16   ind_418  \\\n",
       "ind_18   1.000000 -0.247839 -0.037236  0.519406 -0.308114  0.397056 -0.364201   \n",
       "ind_324 -0.247839  1.000000 -0.271897 -0.129447  0.339597 -0.064688  0.412388   \n",
       "ind_412 -0.037236 -0.271897  1.000000 -0.047126 -0.028020 -0.031548 -0.317183   \n",
       "ind_17   0.519406 -0.129447 -0.047126  1.000000 -0.161937  0.921632 -0.403946   \n",
       "ind_315 -0.308114  0.339597 -0.028020 -0.161937  1.000000 -0.145599  0.162454   \n",
       "ind_16   0.397056 -0.064688 -0.031548  0.921632 -0.145599  1.000000 -0.339586   \n",
       "ind_418 -0.364201  0.412388 -0.317183 -0.403946  0.162454 -0.339586  1.000000   \n",
       "ind_77   0.087033 -0.396448  0.422127 -0.004318 -0.246071 -0.006383 -0.393054   \n",
       "ind_332  0.081775 -0.180743  0.116092  0.022079 -0.057487  0.001329 -0.170422   \n",
       "\n",
       "           ind_77   ind_332  \n",
       "ind_18   0.087033  0.081775  \n",
       "ind_324 -0.396448 -0.180743  \n",
       "ind_412  0.422127  0.116092  \n",
       "ind_17  -0.004318  0.022079  \n",
       "ind_315 -0.246071 -0.057487  \n",
       "ind_16  -0.006383  0.001329  \n",
       "ind_418 -0.393054 -0.170422  \n",
       "ind_77   1.000000  0.316005  \n",
       "ind_332  0.316005  1.000000  "
      ]
     },
     "execution_count": 136,
     "metadata": {},
     "output_type": "execute_result"
    }
   ],
   "source": [
    "new_data = data[['ind_18', 'ind_324', 'ind_412', 'ind_17', 'ind_315','ind_16', 'ind_418', 'ind_77', 'ind_332']]\n",
    "new_data.corr()"
   ]
  },
  {
   "cell_type": "code",
   "execution_count": 137,
   "metadata": {},
   "outputs": [
    {
     "data": {
      "image/png": "[encoded data removed]",
      "text/plain": [
       "<Figure size 1872x720 with 1 Axes>"
      ]
     },
     "metadata": {
      "needs_background": "light"
     },
     "output_type": "display_data"
    }
   ],
   "source": [
    "plt.figure(figsize=(26,10))\n",
    "new_data.boxplot()\n",
    "plt.show()"
   ]
  },
  {
   "cell_type": "code",
   "execution_count": 138,
   "metadata": {},
   "outputs": [
    {
     "data": {
      "image/png": "[encoded data removed]",
      "text/plain": [
       "<Figure size 1872x1296 with 9 Axes>"
      ]
     },
     "metadata": {
      "needs_background": "light"
     },
     "output_type": "display_data"
    }
   ],
   "source": [
    "new_data.hist(figsize=(26,18), bins=40, xlabelsize=6, ylabelsize=6)\n",
    "plt.show()"
   ]
  },
  {
   "cell_type": "code",
   "execution_count": 139,
   "metadata": {},
   "outputs": [
    {
     "data": {
      "image/png": "[encoded data removed]",
      "text/plain": [
       "<Figure size 432x288 with 1 Axes>"
      ]
     },
     "metadata": {
      "needs_background": "light"
     },
     "output_type": "display_data"
    }
   ],
   "source": [
    "stats.probplot(new_data[\"ind_412\"], dist = \"norm\", plot=pylab)\n",
    "pylab.show()"
   ]
  },
  {
   "cell_type": "code",
   "execution_count": 140,
   "metadata": {},
   "outputs": [
    {
     "data": {
      "image/png": "[encoded data removed]",
      "text/plain": [
       "<Figure size 432x288 with 1 Axes>"
      ]
     },
     "metadata": {
      "needs_background": "light"
     },
     "output_type": "display_data"
    }
   ],
   "source": [
    "stats.probplot(new_data[\"ind_418\"], dist = \"norm\", plot=pylab)\n",
    "pylab.show()"
   ]
  },
  {
   "cell_type": "code",
   "execution_count": 141,
   "metadata": {},
   "outputs": [
    {
     "data": {
      "image/png": "[encoded data removed]",
      "text/plain": [
       "<Figure size 432x288 with 1 Axes>"
      ]
     },
     "metadata": {
      "needs_background": "light"
     },
     "output_type": "display_data"
    }
   ],
   "source": [
    "stats.probplot(new_data[\"ind_77\"], dist = \"norm\", plot=pylab)\n",
    "pylab.show()"
   ]
  },
  {
   "cell_type": "code",
   "execution_count": 142,
   "metadata": {},
   "outputs": [
    {
     "data": {
      "image/png": "[encoded data removed]",
      "text/plain": [
       "<Figure size 432x288 with 1 Axes>"
      ]
     },
     "metadata": {
      "needs_background": "light"
     },
     "output_type": "display_data"
    }
   ],
   "source": [
    "stats.probplot(new_data[\"ind_315\"], dist = \"norm\", plot=pylab)\n",
    "pylab.show()"
   ]
  },
  {
   "cell_type": "code",
   "execution_count": 143,
   "metadata": {},
   "outputs": [
    {
     "data": {
      "image/png": "[encoded data removed]",
      "text/plain": [
       "<Figure size 432x288 with 1 Axes>"
      ]
     },
     "metadata": {
      "needs_background": "light"
     },
     "output_type": "display_data"
    }
   ],
   "source": [
    "stats.probplot(new_data[\"ind_324\"], dist = \"norm\", plot=pylab)\n",
    "pylab.show()"
   ]
  },
  {
   "cell_type": "code",
   "execution_count": 144,
   "metadata": {},
   "outputs": [
    {
     "data": {
      "image/png": "[encoded data removed]",
      "text/plain": [
       "<Figure size 432x288 with 1 Axes>"
      ]
     },
     "metadata": {
      "needs_background": "light"
     },
     "output_type": "display_data"
    }
   ],
   "source": [
    "stats.probplot(new_data[\"ind_332\"], dist = \"norm\", plot=pylab)\n",
    "pylab.show()"
   ]
  },
  {
   "cell_type": "code",
   "execution_count": 145,
   "metadata": {},
   "outputs": [
    {
     "name": "stdout",
     "output_type": "stream",
     "text": [
      "Shapiro Statistics=0.581, p=0.000\n",
      "\u001b[1mind_324:\u001b[0m Örneklem Normal (Gaussian) dağılımdan gelmemektedir (Reject H0)\n",
      "\n",
      "Shapiro Statistics=0.983, p=0.000\n",
      "\u001b[1mind_412:\u001b[0m Örneklem Normal (Gaussian) dağılımdan gelmemektedir (Reject H0)\n",
      "\n",
      "Shapiro Statistics=0.953, p=0.000\n",
      "\u001b[1mind_17:\u001b[0m Örneklem Normal (Gaussian) dağılımdan gelmemektedir (Reject H0)\n",
      "\n",
      "Shapiro Statistics=0.779, p=0.000\n",
      "\u001b[1mind_315:\u001b[0m Örneklem Normal (Gaussian) dağılımdan gelmemektedir (Reject H0)\n",
      "\n",
      "Shapiro Statistics=0.944, p=0.000\n",
      "\u001b[1mind_16:\u001b[0m Örneklem Normal (Gaussian) dağılımdan gelmemektedir (Reject H0)\n",
      "\n",
      "Shapiro Statistics=0.867, p=0.000\n",
      "\u001b[1mind_418:\u001b[0m Örneklem Normal (Gaussian) dağılımdan gelmemektedir (Reject H0)\n",
      "\n",
      "Shapiro Statistics=0.797, p=0.000\n",
      "\u001b[1mind_77:\u001b[0m Örneklem Normal (Gaussian) dağılımdan gelmemektedir (Reject H0)\n",
      "\n",
      "Shapiro Statistics=0.454, p=0.000\n",
      "\u001b[1mind_332:\u001b[0m Örneklem Normal (Gaussian) dağılımdan gelmemektedir (Reject H0)\n",
      "\n"
     ]
    },
    {
     "name": "stderr",
     "output_type": "stream",
     "text": [
      "C:\\Users\\halil\\anaconda3\\lib\\site-packages\\scipy\\stats\\morestats.py:1676: UserWarning: p-value may not be accurate for N > 5000.\n",
      "  warnings.warn(\"p-value may not be accurate for N > 5000.\")\n"
     ]
    }
   ],
   "source": [
    "for col in new_data.columns[1:]:\n",
    "    if new_data[col].dtypes != object:\n",
    "        \n",
    "        stat, p = shapiro(new_data[col])\n",
    "\n",
    "        print('Shapiro Statistics=%.3f, p=%.3f' % (stat, p))\n",
    "\n",
    "        alpha = 0.05\n",
    "        if p > alpha:\n",
    "            print(col)\n",
    "            print('\\033[1m'+ col + '\\033[0m','Örneklem Normal (Gaussian) dağılımdan gelmektedir (fail to Reject) \\n')\n",
    "        else:\n",
    "            print('\\033[1m'+ col + \":\"+'\\033[0m','Örneklem Normal (Gaussian) dağılımdan gelmemektedir (Reject H0)\\n')"
   ]
  },
  {
   "cell_type": "code",
   "execution_count": 188,
   "metadata": {},
   "outputs": [],
   "source": [
    "y = data[\"90_target\"]"
   ]
  },
  {
   "cell_type": "code",
   "execution_count": 189,
   "metadata": {},
   "outputs": [],
   "source": [
    "X = new_data"
   ]
  },
  {
   "cell_type": "code",
   "execution_count": 190,
   "metadata": {},
   "outputs": [
    {
     "data": {
      "text/html": [
       "<div>\n",
       "<style scoped>\n",
       "    .dataframe tbody tr th:only-of-type {\n",
       "        vertical-align: middle;\n",
       "    }\n",
       "\n",
       "    .dataframe tbody tr th {\n",
       "        vertical-align: top;\n",
       "    }\n",
       "\n",
       "    .dataframe thead th {\n",
       "        text-align: right;\n",
       "    }\n",
       "</style>\n",
       "<table border=\"1\" class=\"dataframe\">\n",
       "  <thead>\n",
       "    <tr style=\"text-align: right;\">\n",
       "      <th></th>\n",
       "      <th>ind_18</th>\n",
       "      <th>ind_324</th>\n",
       "      <th>ind_412</th>\n",
       "      <th>ind_17</th>\n",
       "      <th>ind_315</th>\n",
       "      <th>ind_16</th>\n",
       "      <th>ind_418</th>\n",
       "      <th>ind_77</th>\n",
       "      <th>ind_332</th>\n",
       "    </tr>\n",
       "  </thead>\n",
       "  <tbody>\n",
       "    <tr>\n",
       "      <th>0</th>\n",
       "      <td>9.1100</td>\n",
       "      <td>-0.000062</td>\n",
       "      <td>0.002371</td>\n",
       "      <td>12.060000</td>\n",
       "      <td>-0.756946</td>\n",
       "      <td>11.73</td>\n",
       "      <td>-54</td>\n",
       "      <td>8</td>\n",
       "      <td>20.967742</td>\n",
       "    </tr>\n",
       "    <tr>\n",
       "      <th>1</th>\n",
       "      <td>9.2225</td>\n",
       "      <td>-0.000062</td>\n",
       "      <td>0.003074</td>\n",
       "      <td>11.326667</td>\n",
       "      <td>-0.756569</td>\n",
       "      <td>12.22</td>\n",
       "      <td>-60</td>\n",
       "      <td>8</td>\n",
       "      <td>20.800000</td>\n",
       "    </tr>\n",
       "    <tr>\n",
       "      <th>2</th>\n",
       "      <td>9.3125</td>\n",
       "      <td>-0.000062</td>\n",
       "      <td>0.003561</td>\n",
       "      <td>10.973333</td>\n",
       "      <td>-0.756393</td>\n",
       "      <td>12.28</td>\n",
       "      <td>-60</td>\n",
       "      <td>8</td>\n",
       "      <td>20.634921</td>\n",
       "    </tr>\n",
       "    <tr>\n",
       "      <th>3</th>\n",
       "      <td>9.4150</td>\n",
       "      <td>-0.000062</td>\n",
       "      <td>0.004366</td>\n",
       "      <td>10.426667</td>\n",
       "      <td>-0.756073</td>\n",
       "      <td>12.61</td>\n",
       "      <td>-65</td>\n",
       "      <td>8</td>\n",
       "      <td>20.472441</td>\n",
       "    </tr>\n",
       "    <tr>\n",
       "      <th>4</th>\n",
       "      <td>9.8925</td>\n",
       "      <td>-0.000062</td>\n",
       "      <td>0.004198</td>\n",
       "      <td>11.406667</td>\n",
       "      <td>-0.754789</td>\n",
       "      <td>14.25</td>\n",
       "      <td>-86</td>\n",
       "      <td>8</td>\n",
       "      <td>20.312500</td>\n",
       "    </tr>\n",
       "  </tbody>\n",
       "</table>\n",
       "</div>"
      ],
      "text/plain": [
       "   ind_18   ind_324   ind_412     ind_17   ind_315  ind_16  ind_418  ind_77  \\\n",
       "0  9.1100 -0.000062  0.002371  12.060000 -0.756946   11.73      -54       8   \n",
       "1  9.2225 -0.000062  0.003074  11.326667 -0.756569   12.22      -60       8   \n",
       "2  9.3125 -0.000062  0.003561  10.973333 -0.756393   12.28      -60       8   \n",
       "3  9.4150 -0.000062  0.004366  10.426667 -0.756073   12.61      -65       8   \n",
       "4  9.8925 -0.000062  0.004198  11.406667 -0.754789   14.25      -86       8   \n",
       "\n",
       "     ind_332  \n",
       "0  20.967742  \n",
       "1  20.800000  \n",
       "2  20.634921  \n",
       "3  20.472441  \n",
       "4  20.312500  "
      ]
     },
     "execution_count": 190,
     "metadata": {},
     "output_type": "execute_result"
    }
   ],
   "source": [
    "X.head()"
   ]
  },
  {
   "cell_type": "code",
   "execution_count": 191,
   "metadata": {},
   "outputs": [],
   "source": [
    "lm = sm.OLS(y, X)"
   ]
  },
  {
   "cell_type": "code",
   "execution_count": 192,
   "metadata": {},
   "outputs": [
    {
     "data": {
      "text/html": [
       "<table class=\"simpletable\">\n",
       "<caption>OLS Regression Results</caption>\n",
       "<tr>\n",
       "  <th>Dep. Variable:</th>        <td>90_target</td>    <th>  R-squared (uncentered):</th>      <td>   0.045</td> \n",
       "</tr>\n",
       "<tr>\n",
       "  <th>Model:</th>                   <td>OLS</td>       <th>  Adj. R-squared (uncentered):</th> <td>   0.043</td> \n",
       "</tr>\n",
       "<tr>\n",
       "  <th>Method:</th>             <td>Least Squares</td>  <th>  F-statistic:       </th>          <td>   26.64</td> \n",
       "</tr>\n",
       "<tr>\n",
       "  <th>Date:</th>             <td>Tue, 04 Aug 2020</td> <th>  Prob (F-statistic):</th>          <td>1.89e-45</td> \n",
       "</tr>\n",
       "<tr>\n",
       "  <th>Time:</th>                 <td>13:35:28</td>     <th>  Log-Likelihood:    </th>          <td> -25649.</td> \n",
       "</tr>\n",
       "<tr>\n",
       "  <th>No. Observations:</th>      <td>  5126</td>      <th>  AIC:               </th>          <td>5.132e+04</td>\n",
       "</tr>\n",
       "<tr>\n",
       "  <th>Df Residuals:</th>          <td>  5117</td>      <th>  BIC:               </th>          <td>5.138e+04</td>\n",
       "</tr>\n",
       "<tr>\n",
       "  <th>Df Model:</th>              <td>     9</td>      <th>                     </th>              <td> </td>    \n",
       "</tr>\n",
       "<tr>\n",
       "  <th>Covariance Type:</th>      <td>nonrobust</td>    <th>                     </th>              <td> </td>    \n",
       "</tr>\n",
       "</table>\n",
       "<table class=\"simpletable\">\n",
       "<tr>\n",
       "     <td></td>        <th>coef</th>     <th>std err</th>      <th>t</th>      <th>P>|t|</th>  <th>[0.025</th>    <th>0.975]</th>  \n",
       "</tr>\n",
       "<tr>\n",
       "  <th>ind_18</th>  <td>   -1.2228</td> <td>    0.148</td> <td>   -8.269</td> <td> 0.000</td> <td>   -1.513</td> <td>   -0.933</td>\n",
       "</tr>\n",
       "<tr>\n",
       "  <th>ind_324</th> <td>-1.782e+04</td> <td> 4491.939</td> <td>   -3.967</td> <td> 0.000</td> <td>-2.66e+04</td> <td>-9013.281</td>\n",
       "</tr>\n",
       "<tr>\n",
       "  <th>ind_412</th> <td>  665.5167</td> <td>   98.304</td> <td>    6.770</td> <td> 0.000</td> <td>  472.799</td> <td>  858.235</td>\n",
       "</tr>\n",
       "<tr>\n",
       "  <th>ind_17</th>  <td>    1.2329</td> <td>    0.324</td> <td>    3.804</td> <td> 0.000</td> <td>    0.597</td> <td>    1.868</td>\n",
       "</tr>\n",
       "<tr>\n",
       "  <th>ind_315</th> <td>   -3.3805</td> <td>    0.749</td> <td>   -4.513</td> <td> 0.000</td> <td>   -4.849</td> <td>   -1.912</td>\n",
       "</tr>\n",
       "<tr>\n",
       "  <th>ind_16</th>  <td>   -0.5258</td> <td>    0.267</td> <td>   -1.971</td> <td> 0.049</td> <td>   -1.049</td> <td>   -0.003</td>\n",
       "</tr>\n",
       "<tr>\n",
       "  <th>ind_418</th> <td>    0.0493</td> <td>    0.029</td> <td>    1.703</td> <td> 0.089</td> <td>   -0.007</td> <td>    0.106</td>\n",
       "</tr>\n",
       "<tr>\n",
       "  <th>ind_77</th>  <td>    0.0724</td> <td>    0.056</td> <td>    1.304</td> <td> 0.192</td> <td>   -0.036</td> <td>    0.181</td>\n",
       "</tr>\n",
       "<tr>\n",
       "  <th>ind_332</th> <td>    0.0908</td> <td>    0.020</td> <td>    4.449</td> <td> 0.000</td> <td>    0.051</td> <td>    0.131</td>\n",
       "</tr>\n",
       "</table>\n",
       "<table class=\"simpletable\">\n",
       "<tr>\n",
       "  <th>Omnibus:</th>       <td>20771.715</td> <th>  Durbin-Watson:     </th> <td>   0.307</td> \n",
       "</tr>\n",
       "<tr>\n",
       "  <th>Prob(Omnibus):</th>  <td> 0.000</td>   <th>  Jarque-Bera (JB):  </th> <td> 718.170</td> \n",
       "</tr>\n",
       "<tr>\n",
       "  <th>Skew:</th>           <td> 0.213</td>   <th>  Prob(JB):          </th> <td>1.13e-156</td>\n",
       "</tr>\n",
       "<tr>\n",
       "  <th>Kurtosis:</th>       <td> 1.217</td>   <th>  Cond. No.          </th> <td>3.79e+05</td> \n",
       "</tr>\n",
       "</table><br/><br/>Warnings:<br/>[1] Standard Errors assume that the covariance matrix of the errors is correctly specified.<br/>[2] The condition number is large, 3.79e+05. This might indicate that there are<br/>strong multicollinearity or other numerical problems."
      ],
      "text/plain": [
       "<class 'statsmodels.iolib.summary.Summary'>\n",
       "\"\"\"\n",
       "                                 OLS Regression Results                                \n",
       "=======================================================================================\n",
       "Dep. Variable:              90_target   R-squared (uncentered):                   0.045\n",
       "Model:                            OLS   Adj. R-squared (uncentered):              0.043\n",
       "Method:                 Least Squares   F-statistic:                              26.64\n",
       "Date:                Tue, 04 Aug 2020   Prob (F-statistic):                    1.89e-45\n",
       "Time:                        13:35:28   Log-Likelihood:                         -25649.\n",
       "No. Observations:                5126   AIC:                                  5.132e+04\n",
       "Df Residuals:                    5117   BIC:                                  5.138e+04\n",
       "Df Model:                           9                                                  \n",
       "Covariance Type:            nonrobust                                                  \n",
       "==============================================================================\n",
       "                 coef    std err          t      P>|t|      [0.025      0.975]\n",
       "------------------------------------------------------------------------------\n",
       "ind_18        -1.2228      0.148     -8.269      0.000      -1.513      -0.933\n",
       "ind_324    -1.782e+04   4491.939     -3.967      0.000   -2.66e+04   -9013.281\n",
       "ind_412      665.5167     98.304      6.770      0.000     472.799     858.235\n",
       "ind_17         1.2329      0.324      3.804      0.000       0.597       1.868\n",
       "ind_315       -3.3805      0.749     -4.513      0.000      -4.849      -1.912\n",
       "ind_16        -0.5258      0.267     -1.971      0.049      -1.049      -0.003\n",
       "ind_418        0.0493      0.029      1.703      0.089      -0.007       0.106\n",
       "ind_77         0.0724      0.056      1.304      0.192      -0.036       0.181\n",
       "ind_332        0.0908      0.020      4.449      0.000       0.051       0.131\n",
       "==============================================================================\n",
       "Omnibus:                    20771.715   Durbin-Watson:                   0.307\n",
       "Prob(Omnibus):                  0.000   Jarque-Bera (JB):              718.170\n",
       "Skew:                           0.213   Prob(JB):                    1.13e-156\n",
       "Kurtosis:                       1.217   Cond. No.                     3.79e+05\n",
       "==============================================================================\n",
       "\n",
       "Warnings:\n",
       "[1] Standard Errors assume that the covariance matrix of the errors is correctly specified.\n",
       "[2] The condition number is large, 3.79e+05. This might indicate that there are\n",
       "strong multicollinearity or other numerical problems.\n",
       "\"\"\""
      ]
     },
     "execution_count": 192,
     "metadata": {},
     "output_type": "execute_result"
    }
   ],
   "source": [
    "model = lm.fit()\n",
    "model.summary()"
   ]
  },
  {
   "cell_type": "code",
   "execution_count": 193,
   "metadata": {},
   "outputs": [],
   "source": [
    "X = X.drop(columns=['ind_324', 'ind_412'])"
   ]
  },
  {
   "cell_type": "code",
   "execution_count": 195,
   "metadata": {},
   "outputs": [
    {
     "data": {
      "text/html": [
       "<table class=\"simpletable\">\n",
       "<caption>OLS Regression Results</caption>\n",
       "<tr>\n",
       "  <th>Dep. Variable:</th>        <td>90_target</td>    <th>  R-squared (uncentered):</th>      <td>   0.032</td> \n",
       "</tr>\n",
       "<tr>\n",
       "  <th>Model:</th>                   <td>OLS</td>       <th>  Adj. R-squared (uncentered):</th> <td>   0.031</td> \n",
       "</tr>\n",
       "<tr>\n",
       "  <th>Method:</th>             <td>Least Squares</td>  <th>  F-statistic:       </th>          <td>   24.14</td> \n",
       "</tr>\n",
       "<tr>\n",
       "  <th>Date:</th>             <td>Tue, 04 Aug 2020</td> <th>  Prob (F-statistic):</th>          <td>1.50e-32</td> \n",
       "</tr>\n",
       "<tr>\n",
       "  <th>Time:</th>                 <td>13:35:49</td>     <th>  Log-Likelihood:    </th>          <td> -25683.</td> \n",
       "</tr>\n",
       "<tr>\n",
       "  <th>No. Observations:</th>      <td>  5126</td>      <th>  AIC:               </th>          <td>5.138e+04</td>\n",
       "</tr>\n",
       "<tr>\n",
       "  <th>Df Residuals:</th>          <td>  5119</td>      <th>  BIC:               </th>          <td>5.143e+04</td>\n",
       "</tr>\n",
       "<tr>\n",
       "  <th>Df Model:</th>              <td>     7</td>      <th>                     </th>              <td> </td>    \n",
       "</tr>\n",
       "<tr>\n",
       "  <th>Covariance Type:</th>      <td>nonrobust</td>    <th>                     </th>              <td> </td>    \n",
       "</tr>\n",
       "</table>\n",
       "<table class=\"simpletable\">\n",
       "<tr>\n",
       "     <td></td>        <th>coef</th>     <th>std err</th>      <th>t</th>      <th>P>|t|</th>  <th>[0.025</th>    <th>0.975]</th>  \n",
       "</tr>\n",
       "<tr>\n",
       "  <th>ind_18</th>  <td>   -1.1726</td> <td>    0.149</td> <td>   -7.888</td> <td> 0.000</td> <td>   -1.464</td> <td>   -0.881</td>\n",
       "</tr>\n",
       "<tr>\n",
       "  <th>ind_17</th>  <td>    1.1485</td> <td>    0.324</td> <td>    3.548</td> <td> 0.000</td> <td>    0.514</td> <td>    1.783</td>\n",
       "</tr>\n",
       "<tr>\n",
       "  <th>ind_315</th> <td>   -3.7732</td> <td>    0.726</td> <td>   -5.195</td> <td> 0.000</td> <td>   -5.197</td> <td>   -2.349</td>\n",
       "</tr>\n",
       "<tr>\n",
       "  <th>ind_16</th>  <td>   -0.5478</td> <td>    0.266</td> <td>   -2.061</td> <td> 0.039</td> <td>   -1.069</td> <td>   -0.027</td>\n",
       "</tr>\n",
       "<tr>\n",
       "  <th>ind_418</th> <td>   -0.0252</td> <td>    0.028</td> <td>   -0.913</td> <td> 0.361</td> <td>   -0.079</td> <td>    0.029</td>\n",
       "</tr>\n",
       "<tr>\n",
       "  <th>ind_77</th>  <td>    0.2328</td> <td>    0.052</td> <td>    4.444</td> <td> 0.000</td> <td>    0.130</td> <td>    0.335</td>\n",
       "</tr>\n",
       "<tr>\n",
       "  <th>ind_332</th> <td>    0.0920</td> <td>    0.021</td> <td>    4.484</td> <td> 0.000</td> <td>    0.052</td> <td>    0.132</td>\n",
       "</tr>\n",
       "</table>\n",
       "<table class=\"simpletable\">\n",
       "<tr>\n",
       "  <th>Omnibus:</th>       <td>19902.034</td> <th>  Durbin-Watson:     </th> <td>   0.308</td> \n",
       "</tr>\n",
       "<tr>\n",
       "  <th>Prob(Omnibus):</th>  <td> 0.000</td>   <th>  Jarque-Bera (JB):  </th> <td> 756.973</td> \n",
       "</tr>\n",
       "<tr>\n",
       "  <th>Skew:</th>           <td> 0.211</td>   <th>  Prob(JB):          </th> <td>4.22e-165</td>\n",
       "</tr>\n",
       "<tr>\n",
       "  <th>Kurtosis:</th>       <td> 1.165</td>   <th>  Cond. No.          </th> <td>    61.0</td> \n",
       "</tr>\n",
       "</table><br/><br/>Warnings:<br/>[1] Standard Errors assume that the covariance matrix of the errors is correctly specified."
      ],
      "text/plain": [
       "<class 'statsmodels.iolib.summary.Summary'>\n",
       "\"\"\"\n",
       "                                 OLS Regression Results                                \n",
       "=======================================================================================\n",
       "Dep. Variable:              90_target   R-squared (uncentered):                   0.032\n",
       "Model:                            OLS   Adj. R-squared (uncentered):              0.031\n",
       "Method:                 Least Squares   F-statistic:                              24.14\n",
       "Date:                Tue, 04 Aug 2020   Prob (F-statistic):                    1.50e-32\n",
       "Time:                        13:35:49   Log-Likelihood:                         -25683.\n",
       "No. Observations:                5126   AIC:                                  5.138e+04\n",
       "Df Residuals:                    5119   BIC:                                  5.143e+04\n",
       "Df Model:                           7                                                  \n",
       "Covariance Type:            nonrobust                                                  \n",
       "==============================================================================\n",
       "                 coef    std err          t      P>|t|      [0.025      0.975]\n",
       "------------------------------------------------------------------------------\n",
       "ind_18        -1.1726      0.149     -7.888      0.000      -1.464      -0.881\n",
       "ind_17         1.1485      0.324      3.548      0.000       0.514       1.783\n",
       "ind_315       -3.7732      0.726     -5.195      0.000      -5.197      -2.349\n",
       "ind_16        -0.5478      0.266     -2.061      0.039      -1.069      -0.027\n",
       "ind_418       -0.0252      0.028     -0.913      0.361      -0.079       0.029\n",
       "ind_77         0.2328      0.052      4.444      0.000       0.130       0.335\n",
       "ind_332        0.0920      0.021      4.484      0.000       0.052       0.132\n",
       "==============================================================================\n",
       "Omnibus:                    19902.034   Durbin-Watson:                   0.308\n",
       "Prob(Omnibus):                  0.000   Jarque-Bera (JB):              756.973\n",
       "Skew:                           0.211   Prob(JB):                    4.22e-165\n",
       "Kurtosis:                       1.165   Cond. No.                         61.0\n",
       "==============================================================================\n",
       "\n",
       "Warnings:\n",
       "[1] Standard Errors assume that the covariance matrix of the errors is correctly specified.\n",
       "\"\"\""
      ]
     },
     "execution_count": 195,
     "metadata": {},
     "output_type": "execute_result"
    }
   ],
   "source": [
    "lm = sm.OLS(y, X)\n",
    "model = lm.fit()\n",
    "model.summary()"
   ]
  },
  {
   "cell_type": "code",
   "execution_count": 196,
   "metadata": {},
   "outputs": [
    {
     "name": "stdout",
     "output_type": "stream",
     "text": [
      "X_train (3844, 7)\n",
      "y_train (3844,)\n",
      "X_test (1282, 7)\n",
      "y_test (1282,)\n",
      "training (5126, 135)\n"
     ]
    }
   ],
   "source": [
    "X_train, X_test, y_train, y_test = train_test_split(X, \n",
    "                                                    y, \n",
    "                                                    test_size=0.25, \n",
    "                                                    random_state=42)\n",
    "\n",
    "print(\"X_train\", X_train.shape)\n",
    "\n",
    "print(\"y_train\",y_train.shape)\n",
    "\n",
    "print(\"X_test\",X_test.shape)\n",
    "\n",
    "print(\"y_test\",y_test.shape)\n",
    "\n",
    "training = data.copy()\n",
    "\n",
    "print(\"training\", training.shape)"
   ]
  },
  {
   "cell_type": "code",
   "execution_count": 197,
   "metadata": {},
   "outputs": [],
   "source": [
    "from sklearn.decomposition import PCA\n",
    "from sklearn.preprocessing import scale \n",
    "pca = PCA()"
   ]
  },
  {
   "cell_type": "code",
   "execution_count": 198,
   "metadata": {},
   "outputs": [],
   "source": [
    "X_reduced_train = pca.fit_transform(scale(X_train))"
   ]
  },
  {
   "cell_type": "code",
   "execution_count": 199,
   "metadata": {},
   "outputs": [
    {
     "data": {
      "text/plain": [
       "array([[ 2.50967106, -0.15486035,  0.12570516, -0.83452236, -0.87288995,\n",
       "         0.465382  , -0.51667753]])"
      ]
     },
     "execution_count": 199,
     "metadata": {},
     "output_type": "execute_result"
    }
   ],
   "source": [
    "X_reduced_train[0:1,:]"
   ]
  },
  {
   "cell_type": "code",
   "execution_count": 200,
   "metadata": {},
   "outputs": [
    {
     "data": {
      "text/plain": [
       "array([37.95, 59.51, 73.19, 84.03, 92.91])"
      ]
     },
     "execution_count": 200,
     "metadata": {},
     "output_type": "execute_result"
    }
   ],
   "source": [
    "np.cumsum(np.round(pca.explained_variance_ratio_, decimals = 4)*100)[0:5]\n",
    "# birinci bileşenin verisetinde bulunan varyansın %38 ini açıkladıgı görünmekte.\n",
    "# ikinci bileşenin birinci bileşen ile birlikte verisetinde bulunan varyansın %59 ini açıkladıgı görünmekte."
   ]
  },
  {
   "cell_type": "code",
   "execution_count": 201,
   "metadata": {},
   "outputs": [],
   "source": [
    "lm = LinearRegression()\n",
    "pcr_model = lm.fit(X_reduced_train, y_train)"
   ]
  },
  {
   "cell_type": "code",
   "execution_count": 202,
   "metadata": {},
   "outputs": [
    {
     "data": {
      "text/plain": [
       "-4.450958050920915"
      ]
     },
     "execution_count": 202,
     "metadata": {},
     "output_type": "execute_result"
    }
   ],
   "source": [
    "pcr_model.intercept_"
   ]
  },
  {
   "cell_type": "code",
   "execution_count": 203,
   "metadata": {},
   "outputs": [
    {
     "data": {
      "text/plain": [
       "array([ 4.1959678 , -2.59809163,  1.09229364,  2.16911328, -0.69268464,\n",
       "        1.58296437,  1.39946966])"
      ]
     },
     "execution_count": 203,
     "metadata": {},
     "output_type": "execute_result"
    }
   ],
   "source": [
    "pcr_model.coef_"
   ]
  },
  {
   "cell_type": "code",
   "execution_count": 204,
   "metadata": {},
   "outputs": [],
   "source": [
    "y_pred = pcr_model.predict(X_reduced_train)"
   ]
  },
  {
   "cell_type": "code",
   "execution_count": 205,
   "metadata": {},
   "outputs": [
    {
     "data": {
      "text/plain": [
       "array([  5.42726176, -14.66029596,   8.4391311 , -11.60440057,\n",
       "        -3.3615401 ])"
      ]
     },
     "execution_count": 205,
     "metadata": {},
     "output_type": "execute_result"
    }
   ],
   "source": [
    "y_pred[0:5]\n",
    "#Tahmin degerler"
   ]
  },
  {
   "cell_type": "code",
   "execution_count": 206,
   "metadata": {},
   "outputs": [
    {
     "data": {
      "text/plain": [
       "35.7145606905458"
      ]
     },
     "execution_count": 206,
     "metadata": {},
     "output_type": "execute_result"
    }
   ],
   "source": [
    "np.sqrt(mean_squared_error(y_train, y_pred))"
   ]
  },
  {
   "cell_type": "code",
   "execution_count": 207,
   "metadata": {},
   "outputs": [
    {
     "data": {
      "text/plain": [
       "-4.115568369248929"
      ]
     },
     "execution_count": 207,
     "metadata": {},
     "output_type": "execute_result"
    }
   ],
   "source": [
    "data[\"90_target\"].mean()"
   ]
  },
  {
   "cell_type": "code",
   "execution_count": 208,
   "metadata": {},
   "outputs": [
    {
     "data": {
      "text/plain": [
       "0.04719491910775142"
      ]
     },
     "execution_count": 208,
     "metadata": {},
     "output_type": "execute_result"
    }
   ],
   "source": [
    "r2_score(y_train, y_pred)"
   ]
  },
  {
   "cell_type": "code",
   "execution_count": 209,
   "metadata": {},
   "outputs": [],
   "source": [
    "pca2 = PCA()"
   ]
  },
  {
   "cell_type": "code",
   "execution_count": 210,
   "metadata": {},
   "outputs": [],
   "source": [
    "X_reduced_test = pca2.fit_transform(scale(X_test))"
   ]
  },
  {
   "cell_type": "code",
   "execution_count": 211,
   "metadata": {},
   "outputs": [],
   "source": [
    "y_pred = pcr_model.predict(X_reduced_test)"
   ]
  },
  {
   "cell_type": "code",
   "execution_count": 212,
   "metadata": {},
   "outputs": [
    {
     "data": {
      "text/plain": [
       "36.56721679383123"
      ]
     },
     "execution_count": 212,
     "metadata": {},
     "output_type": "execute_result"
    }
   ],
   "source": [
    "np.sqrt(mean_squared_error(y_test, y_pred))"
   ]
  },
  {
   "cell_type": "markdown",
   "metadata": {},
   "source": [
    "# Model Tuning"
   ]
  },
  {
   "cell_type": "code",
   "execution_count": 213,
   "metadata": {},
   "outputs": [
    {
     "name": "stdout",
     "output_type": "stream",
     "text": [
      "36.56721679383123\n"
     ]
    }
   ],
   "source": [
    "lm = LinearRegression()\n",
    "pcr_model = lm.fit(X_reduced_train[:,0:10], y_train)\n",
    "# Modelleme için 10 bileşen aldı. 10 yerine farklı bir rakam alınsaydı mse degeri degişecekti.\n",
    "y_pred = pcr_model.predict(X_reduced_test[:,0:10])\n",
    "print(np.sqrt(mean_squared_error(y_test, y_pred)))"
   ]
  },
  {
   "cell_type": "code",
   "execution_count": 214,
   "metadata": {},
   "outputs": [],
   "source": [
    "from sklearn import model_selection"
   ]
  },
  {
   "cell_type": "code",
   "execution_count": 215,
   "metadata": {},
   "outputs": [],
   "source": [
    "cv_10 = model_selection.KFold(n_splits = 10,\n",
    "                             shuffle = True,\n",
    "                             random_state = 1)\n",
    "#10 katlı cross validation yapılandırması yapıldı.shuffle gruplara ayrılmadan önceden verilerin karıştırılacagını göstermekte."
   ]
  },
  {
   "cell_type": "code",
   "execution_count": 216,
   "metadata": {},
   "outputs": [],
   "source": [
    "RMSE = []"
   ]
  },
  {
   "cell_type": "code",
   "execution_count": 217,
   "metadata": {},
   "outputs": [],
   "source": [
    "for i in np.arange(1, X_reduced_train.shape[1] + 1):\n",
    "    \n",
    "    score = np.sqrt(-1*model_selection.cross_val_score(lm, \n",
    "                                                       X_reduced_train[:,:i], \n",
    "                                                       y_train.ravel(), \n",
    "                                                       cv=cv_10, \n",
    "                                                       scoring='neg_mean_squared_error').mean())\n",
    "    RMSE.append(score)"
   ]
  },
  {
   "cell_type": "code",
   "execution_count": 218,
   "metadata": {},
   "outputs": [
    {
     "data": {
      "image/png": "[encoded data removed]",
      "text/plain": [
       "<Figure size 432x288 with 1 Axes>"
      ]
     },
     "metadata": {
      "needs_background": "light"
     },
     "output_type": "display_data"
    }
   ],
   "source": [
    "plt.plot(RMSE, '-v')\n",
    "plt.xlabel('Bileşen Sayısı')\n",
    "plt.ylabel('RMSE')\n",
    "plt.title('PCR Model Tuning');"
   ]
  },
  {
   "cell_type": "code",
   "execution_count": 219,
   "metadata": {},
   "outputs": [],
   "source": [
    "lm = LinearRegression()"
   ]
  },
  {
   "cell_type": "code",
   "execution_count": 220,
   "metadata": {},
   "outputs": [],
   "source": [
    "pcr_model = lm.fit(X_reduced_train[:,0:3], y_train)"
   ]
  },
  {
   "cell_type": "code",
   "execution_count": 221,
   "metadata": {},
   "outputs": [],
   "source": [
    "y_pred = pcr_model.predict(X_reduced_train[:,0:3])"
   ]
  },
  {
   "cell_type": "code",
   "execution_count": 222,
   "metadata": {},
   "outputs": [
    {
     "name": "stdout",
     "output_type": "stream",
     "text": [
      "35.785538534208\n"
     ]
    }
   ],
   "source": [
    "print(np.sqrt(mean_squared_error(y_train, y_pred)))"
   ]
  },
  {
   "cell_type": "code",
   "execution_count": 223,
   "metadata": {},
   "outputs": [],
   "source": [
    "y_pred = pcr_model.predict(X_reduced_test[:,0:3])"
   ]
  },
  {
   "cell_type": "code",
   "execution_count": 224,
   "metadata": {},
   "outputs": [
    {
     "name": "stdout",
     "output_type": "stream",
     "text": [
      "36.41641941661561\n"
     ]
    }
   ],
   "source": [
    "print(np.sqrt(mean_squared_error(y_test, y_pred)))"
   ]
  }
 ],
 "metadata": {
  "kernelspec": {
   "display_name": "Python 3",
   "language": "python",
   "name": "python3"
  },
  "language_info": {
   "codemirror_mode": {
    "name": "ipython",
    "version": 3
   },
   "file_extension": ".py",
   "mimetype": "text/x-python",
   "name": "python",
   "nbconvert_exporter": "python",
   "pygments_lexer": "ipython3",
   "version": "3.7.6"
  }
 },
 "nbformat": 4,
 "nbformat_minor": 4
}
