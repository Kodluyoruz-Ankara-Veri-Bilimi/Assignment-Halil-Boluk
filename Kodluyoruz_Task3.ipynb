{
 "cells": [
  {
   "cell_type": "code",
   "execution_count": 1,
   "metadata": {},
   "outputs": [
    {
     "data": {
      "text/plain": [
       "'C:\\\\Users\\\\halil\\\\Desktop\\\\kodluyoruz\\\\kodluyoruz ödevler'"
      ]
     },
     "execution_count": 1,
     "metadata": {},
     "output_type": "execute_result"
    }
   ],
   "source": [
    "import os\n",
    "os.getcwd()"
   ]
  },
  {
   "cell_type": "code",
   "execution_count": 2,
   "metadata": {},
   "outputs": [],
   "source": [
    "import pandas as pd\n",
    "import numpy as np\n",
    "import matplotlib.pyplot as plt\n",
    "import seaborn as sns"
   ]
  },
  {
   "cell_type": "code",
   "execution_count": 3,
   "metadata": {},
   "outputs": [],
   "source": [
    "class Info(): \n",
    "    def __init__(self,data):\n",
    "        self.data = pd.read_excel(\"HW_Data_Set.xlsx\")\n",
    "        data=self.data\n",
    "        print(data.head())\n",
    "        print(data.info())\n",
    "        print(data.describe().T)\n",
    "        print(data.shape)\n",
    "        print(data.columns)"
   ]
  },
  {
   "cell_type": "code",
   "execution_count": 4,
   "metadata": {},
   "outputs": [],
   "source": [
    "data = pd.read_excel(\"HW_Data_Set.xlsx\")"
   ]
  },
  {
   "cell_type": "code",
   "execution_count": 5,
   "metadata": {},
   "outputs": [
    {
     "name": "stdout",
     "output_type": "stream",
     "text": [
      "   ind_5  ind_6  ind_8      ind_9     ind_10     ind_12     ind_13  ind_14  \\\n",
      "0     19     17  100.0  85.714286  14.285714  72.363515  60.808814   23.80   \n",
      "1     24     19  100.0  78.571429  21.428571  74.275883  64.366798   11.45   \n",
      "2     30     24  100.0  71.428571  28.571429  75.140402  65.915803    8.75   \n",
      "3     37     30  100.0  64.285714  35.714286  76.677846  68.584234    7.80   \n",
      "4     41     37  100.0  57.142857  42.857143  81.603007  76.455495   14.90   \n",
      "\n",
      "   ind_15  ind_16  ...  ind_416  ind_418  ind_420  ind_422  ind_424   ind_426  \\\n",
      "0   17.62   11.73  ...    -49.6      -54     -152     -353      1.0  0.498547   \n",
      "1   18.16   12.22  ...    -55.6      -60     -158     -359      1.0  0.537088   \n",
      "2   17.86   12.28  ...    -58.4      -60     -160     -362      1.0  0.615169   \n",
      "3   14.76   12.61  ...    -61.8      -65     -166     -367      1.0  0.661517   \n",
      "4   11.92   14.25  ...    -79.8      -86     -186     -388      1.0  0.747204   \n",
      "\n",
      "    ind_428  20_target  50_target  90_target  \n",
      "0  0.701906  15.135802  35.625252  36.997753  \n",
      "1  0.690833  15.143348  35.643013  37.016198  \n",
      "2  0.693040  15.146870  35.651301 -37.024805  \n",
      "3  0.673418  15.153283   0.000000 -37.040483  \n",
      "4  0.700522 -15.179065 -35.727079 -37.103503  \n",
      "\n",
      "[5 rows x 136 columns]\n",
      "<class 'pandas.core.frame.DataFrame'>\n",
      "RangeIndex: 6167 entries, 0 to 6166\n",
      "Columns: 136 entries, ind_5 to 90_target\n",
      "dtypes: float64(88), int64(45), object(3)\n",
      "memory usage: 6.4+ MB\n",
      "None\n",
      "            count       mean        std         min        25%        50%  \\\n",
      "ind_5      6167.0  -0.803146  23.624403 -131.000000 -14.000000   0.000000   \n",
      "ind_6      6167.0  -0.803470  23.624144 -131.000000 -14.000000   0.000000   \n",
      "ind_8      6167.0  48.388890  36.388526    0.000000  14.285714  50.000000   \n",
      "ind_9      6167.0  48.289282  36.478009    0.000000  14.285714  50.000000   \n",
      "ind_10     6167.0   0.099609  60.414625 -100.000000 -50.000000   0.000000   \n",
      "...           ...        ...        ...         ...        ...        ...   \n",
      "ind_426    6167.0   0.498188   0.228547    0.000000   0.323783   0.495192   \n",
      "ind_428    6167.0   0.490174   0.150483    0.083530   0.379894   0.487078   \n",
      "20_target  6167.0  -0.057102  14.834497  -15.780588 -15.350354   0.000000   \n",
      "50_target  6167.0  -2.906358  34.559778  -37.142889 -36.208094 -34.267756   \n",
      "90_target  6167.0  -3.315072  36.841541  -38.573858 -37.695273 -35.788391   \n",
      "\n",
      "                 75%         max  \n",
      "ind_5      13.000000   76.000000  \n",
      "ind_6      13.000000   76.000000  \n",
      "ind_8      85.714286  100.000000  \n",
      "ind_9      85.714286  100.000000  \n",
      "ind_10     57.142857  100.000000  \n",
      "...              ...         ...  \n",
      "ind_426     0.675730    1.000000  \n",
      "ind_428     0.601508    0.868534  \n",
      "20_target  15.385945   15.768767  \n",
      "50_target  35.879524   37.038694  \n",
      "90_target  37.521892   38.465649  \n",
      "\n",
      "[133 rows x 8 columns]\n",
      "(6167, 136)\n",
      "Index(['ind_5', 'ind_6', 'ind_8', 'ind_9', 'ind_10', 'ind_12', 'ind_13',\n",
      "       'ind_14', 'ind_15', 'ind_16',\n",
      "       ...\n",
      "       'ind_416', 'ind_418', 'ind_420', 'ind_422', 'ind_424', 'ind_426',\n",
      "       'ind_428', '20_target', '50_target', '90_target'],\n",
      "      dtype='object', length=136)\n"
     ]
    },
    {
     "data": {
      "text/plain": [
       "<__main__.Info at 0x22301167908>"
      ]
     },
     "execution_count": 5,
     "metadata": {},
     "output_type": "execute_result"
    }
   ],
   "source": [
    "Info(data)"
   ]
  },
  {
   "cell_type": "code",
   "execution_count": 39,
   "metadata": {},
   "outputs": [],
   "source": [
    "class Visualization:\n",
    "    import seaborn as sns\n",
    "    import matplotlib.pyplot as plt\n",
    "    def __init__(self, data):\n",
    "        self.dataframe = data\n",
    "        \n",
    "    def scatterplot(self, data1, data2, xlabel=None, ylabel=None):\n",
    "        plt.figure(figsize=(10,6))\n",
    "        plt.scatter(data1, data2)\n",
    "        plt.xlabel(xlabel)\n",
    "        plt.ylabel(ylabel)\n",
    "        plt.show()\n",
    "\n",
    "    def histogram(self, data):\n",
    "        sns.distplot(data)\n",
    "        plt.show()   "
   ]
  },
  {
   "cell_type": "code",
   "execution_count": 43,
   "metadata": {},
   "outputs": [],
   "source": [
    "vs = Visualization(data)"
   ]
  },
  {
   "cell_type": "code",
   "execution_count": 45,
   "metadata": {},
   "outputs": [
    {
     "data": {
      "image/png": "[encoded data removed]",
      "text/plain": [
       "<Figure size 432x288 with 1 Axes>"
      ]
     },
     "metadata": {
      "needs_background": "light"
     },
     "output_type": "display_data"
    }
   ],
   "source": [
    "vs.histogram(data[\"20_target\"])"
   ]
  },
  {
   "cell_type": "code",
   "execution_count": 46,
   "metadata": {},
   "outputs": [
    {
     "data": {
      "image/png": "[encoded data removed]",
      "text/plain": [
       "<Figure size 432x288 with 1 Axes>"
      ]
     },
     "metadata": {
      "needs_background": "light"
     },
     "output_type": "display_data"
    }
   ],
   "source": [
    "vs.histogram(data[\"50_target\"])"
   ]
  },
  {
   "cell_type": "code",
   "execution_count": 47,
   "metadata": {},
   "outputs": [
    {
     "data": {
      "image/png": "[encoded data removed]",
      "text/plain": [
       "<Figure size 432x288 with 1 Axes>"
      ]
     },
     "metadata": {
      "needs_background": "light"
     },
     "output_type": "display_data"
    }
   ],
   "source": [
    "vs.histogram(data[\"90_target\"])"
   ]
  },
  {
   "cell_type": "code",
   "execution_count": 48,
   "metadata": {},
   "outputs": [
    {
     "data": {
      "image/png": "[encoded data removed]",
      "text/plain": [
       "<Figure size 720x432 with 1 Axes>"
      ]
     },
     "metadata": {
      "needs_background": "light"
     },
     "output_type": "display_data"
    }
   ],
   "source": [
    "vs.scatterplot(data[\"20_target\"],data[\"90_target\"], \"\")"
   ]
  },
  {
   "cell_type": "code",
   "execution_count": 50,
   "metadata": {},
   "outputs": [
    {
     "data": {
      "image/png": "[encoded data removed]",
      "text/plain": [
       "<Figure size 720x432 with 1 Axes>"
      ]
     },
     "metadata": {
      "needs_background": "light"
     },
     "output_type": "display_data"
    }
   ],
   "source": [
    "vs.scatterplot(data[\"50_target\"],data[\"90_target\"], \"50_target\", \"90_target\")"
   ]
  },
  {
   "cell_type": "code",
   "execution_count": 8,
   "metadata": {},
   "outputs": [
    {
     "data": {
      "image/png": "[encoded data removed]",
      "text/plain": [
       "<Figure size 1080x540 with 144 Axes>"
      ]
     },
     "metadata": {
      "needs_background": "light"
     },
     "output_type": "display_data"
    }
   ],
   "source": [
    "data_hist=data\n",
    "data_hist.hist(bins=10,figsize=(15,7.5))\n",
    "plt.show()"
   ]
  },
  {
   "cell_type": "code",
   "execution_count": 31,
   "metadata": {},
   "outputs": [
    {
     "data": {
      "text/html": [
       "<div>\n",
       "<style scoped>\n",
       "    .dataframe tbody tr th:only-of-type {\n",
       "        vertical-align: middle;\n",
       "    }\n",
       "\n",
       "    .dataframe tbody tr th {\n",
       "        vertical-align: top;\n",
       "    }\n",
       "\n",
       "    .dataframe thead th {\n",
       "        text-align: right;\n",
       "    }\n",
       "</style>\n",
       "<table border=\"1\" class=\"dataframe\">\n",
       "  <thead>\n",
       "    <tr style=\"text-align: right;\">\n",
       "      <th></th>\n",
       "      <th>ind_5</th>\n",
       "      <th>ind_6</th>\n",
       "      <th>ind_8</th>\n",
       "      <th>ind_9</th>\n",
       "      <th>ind_10</th>\n",
       "      <th>ind_12</th>\n",
       "      <th>ind_13</th>\n",
       "      <th>ind_14</th>\n",
       "      <th>ind_15</th>\n",
       "      <th>ind_16</th>\n",
       "      <th>...</th>\n",
       "      <th>ind_412</th>\n",
       "      <th>ind_414</th>\n",
       "      <th>ind_416</th>\n",
       "      <th>ind_418</th>\n",
       "      <th>ind_424</th>\n",
       "      <th>ind_426</th>\n",
       "      <th>ind_428</th>\n",
       "      <th>20_target</th>\n",
       "      <th>50_target</th>\n",
       "      <th>90_target</th>\n",
       "    </tr>\n",
       "  </thead>\n",
       "  <tbody>\n",
       "    <tr>\n",
       "      <th>ind_5</th>\n",
       "      <td>1.000000</td>\n",
       "      <td>0.989945</td>\n",
       "      <td>0.543246</td>\n",
       "      <td>-0.533328</td>\n",
       "      <td>0.649225</td>\n",
       "      <td>0.822255</td>\n",
       "      <td>0.768234</td>\n",
       "      <td>-0.014502</td>\n",
       "      <td>-0.026336</td>\n",
       "      <td>-0.041130</td>\n",
       "      <td>...</td>\n",
       "      <td>0.620106</td>\n",
       "      <td>-0.694619</td>\n",
       "      <td>-0.304134</td>\n",
       "      <td>-0.620099</td>\n",
       "      <td>0.076169</td>\n",
       "      <td>0.626439</td>\n",
       "      <td>0.817302</td>\n",
       "      <td>0.060969</td>\n",
       "      <td>0.068989</td>\n",
       "      <td>0.060428</td>\n",
       "    </tr>\n",
       "    <tr>\n",
       "      <th>ind_6</th>\n",
       "      <td>0.989945</td>\n",
       "      <td>1.000000</td>\n",
       "      <td>0.514222</td>\n",
       "      <td>-0.495572</td>\n",
       "      <td>0.608947</td>\n",
       "      <td>0.768551</td>\n",
       "      <td>0.713870</td>\n",
       "      <td>-0.006066</td>\n",
       "      <td>-0.019393</td>\n",
       "      <td>-0.035795</td>\n",
       "      <td>...</td>\n",
       "      <td>0.634679</td>\n",
       "      <td>-0.646983</td>\n",
       "      <td>-0.279922</td>\n",
       "      <td>-0.569657</td>\n",
       "      <td>0.021220</td>\n",
       "      <td>0.567359</td>\n",
       "      <td>0.810371</td>\n",
       "      <td>0.062101</td>\n",
       "      <td>0.069652</td>\n",
       "      <td>0.061560</td>\n",
       "    </tr>\n",
       "    <tr>\n",
       "      <th>ind_8</th>\n",
       "      <td>0.543246</td>\n",
       "      <td>0.514222</td>\n",
       "      <td>1.000000</td>\n",
       "      <td>-0.374857</td>\n",
       "      <td>0.828650</td>\n",
       "      <td>0.583623</td>\n",
       "      <td>0.482220</td>\n",
       "      <td>0.162635</td>\n",
       "      <td>0.139612</td>\n",
       "      <td>0.038862</td>\n",
       "      <td>...</td>\n",
       "      <td>0.275687</td>\n",
       "      <td>-0.489596</td>\n",
       "      <td>-0.277258</td>\n",
       "      <td>-0.432579</td>\n",
       "      <td>0.144795</td>\n",
       "      <td>0.593799</td>\n",
       "      <td>0.445427</td>\n",
       "      <td>-0.004126</td>\n",
       "      <td>0.006984</td>\n",
       "      <td>-0.006650</td>\n",
       "    </tr>\n",
       "    <tr>\n",
       "      <th>ind_9</th>\n",
       "      <td>-0.533328</td>\n",
       "      <td>-0.495572</td>\n",
       "      <td>-0.374857</td>\n",
       "      <td>1.000000</td>\n",
       "      <td>-0.829576</td>\n",
       "      <td>-0.609288</td>\n",
       "      <td>-0.568581</td>\n",
       "      <td>0.238938</td>\n",
       "      <td>0.240048</td>\n",
       "      <td>0.152133</td>\n",
       "      <td>...</td>\n",
       "      <td>-0.276882</td>\n",
       "      <td>0.436275</td>\n",
       "      <td>0.349318</td>\n",
       "      <td>0.505772</td>\n",
       "      <td>-0.173139</td>\n",
       "      <td>-0.631961</td>\n",
       "      <td>-0.450719</td>\n",
       "      <td>-0.031316</td>\n",
       "      <td>-0.004053</td>\n",
       "      <td>0.012093</td>\n",
       "    </tr>\n",
       "    <tr>\n",
       "      <th>ind_10</th>\n",
       "      <td>0.649225</td>\n",
       "      <td>0.608947</td>\n",
       "      <td>0.828650</td>\n",
       "      <td>-0.829576</td>\n",
       "      <td>1.000000</td>\n",
       "      <td>0.719409</td>\n",
       "      <td>0.633753</td>\n",
       "      <td>-0.046312</td>\n",
       "      <td>-0.060849</td>\n",
       "      <td>-0.068450</td>\n",
       "      <td>...</td>\n",
       "      <td>0.333229</td>\n",
       "      <td>-0.558311</td>\n",
       "      <td>-0.377913</td>\n",
       "      <td>-0.565931</td>\n",
       "      <td>0.191752</td>\n",
       "      <td>0.739227</td>\n",
       "      <td>0.540428</td>\n",
       "      <td>0.016423</td>\n",
       "      <td>0.006654</td>\n",
       "      <td>-0.011307</td>\n",
       "    </tr>\n",
       "    <tr>\n",
       "      <th>...</th>\n",
       "      <td>...</td>\n",
       "      <td>...</td>\n",
       "      <td>...</td>\n",
       "      <td>...</td>\n",
       "      <td>...</td>\n",
       "      <td>...</td>\n",
       "      <td>...</td>\n",
       "      <td>...</td>\n",
       "      <td>...</td>\n",
       "      <td>...</td>\n",
       "      <td>...</td>\n",
       "      <td>...</td>\n",
       "      <td>...</td>\n",
       "      <td>...</td>\n",
       "      <td>...</td>\n",
       "      <td>...</td>\n",
       "      <td>...</td>\n",
       "      <td>...</td>\n",
       "      <td>...</td>\n",
       "      <td>...</td>\n",
       "      <td>...</td>\n",
       "    </tr>\n",
       "    <tr>\n",
       "      <th>ind_426</th>\n",
       "      <td>0.626439</td>\n",
       "      <td>0.567359</td>\n",
       "      <td>0.593799</td>\n",
       "      <td>-0.631961</td>\n",
       "      <td>0.739227</td>\n",
       "      <td>0.776076</td>\n",
       "      <td>0.700736</td>\n",
       "      <td>-0.066201</td>\n",
       "      <td>-0.066437</td>\n",
       "      <td>-0.051049</td>\n",
       "      <td>...</td>\n",
       "      <td>0.293592</td>\n",
       "      <td>-0.571432</td>\n",
       "      <td>-0.356302</td>\n",
       "      <td>-0.594243</td>\n",
       "      <td>0.341017</td>\n",
       "      <td>1.000000</td>\n",
       "      <td>0.584754</td>\n",
       "      <td>0.019599</td>\n",
       "      <td>0.009063</td>\n",
       "      <td>-0.002519</td>\n",
       "    </tr>\n",
       "    <tr>\n",
       "      <th>ind_428</th>\n",
       "      <td>0.817302</td>\n",
       "      <td>0.810371</td>\n",
       "      <td>0.445427</td>\n",
       "      <td>-0.450719</td>\n",
       "      <td>0.540428</td>\n",
       "      <td>0.807595</td>\n",
       "      <td>0.727899</td>\n",
       "      <td>0.021970</td>\n",
       "      <td>0.016318</td>\n",
       "      <td>0.010361</td>\n",
       "      <td>...</td>\n",
       "      <td>0.574646</td>\n",
       "      <td>-0.499656</td>\n",
       "      <td>-0.260048</td>\n",
       "      <td>-0.487564</td>\n",
       "      <td>0.188853</td>\n",
       "      <td>0.584754</td>\n",
       "      <td>1.000000</td>\n",
       "      <td>0.047041</td>\n",
       "      <td>0.052418</td>\n",
       "      <td>0.043563</td>\n",
       "    </tr>\n",
       "    <tr>\n",
       "      <th>20_target</th>\n",
       "      <td>0.060969</td>\n",
       "      <td>0.062101</td>\n",
       "      <td>-0.004126</td>\n",
       "      <td>-0.031316</td>\n",
       "      <td>0.016423</td>\n",
       "      <td>0.042550</td>\n",
       "      <td>0.041289</td>\n",
       "      <td>0.015320</td>\n",
       "      <td>0.012012</td>\n",
       "      <td>0.026881</td>\n",
       "      <td>...</td>\n",
       "      <td>0.066637</td>\n",
       "      <td>-0.029005</td>\n",
       "      <td>-0.009829</td>\n",
       "      <td>-0.045656</td>\n",
       "      <td>-0.008799</td>\n",
       "      <td>0.019599</td>\n",
       "      <td>0.047041</td>\n",
       "      <td>1.000000</td>\n",
       "      <td>0.384076</td>\n",
       "      <td>0.355950</td>\n",
       "    </tr>\n",
       "    <tr>\n",
       "      <th>50_target</th>\n",
       "      <td>0.068989</td>\n",
       "      <td>0.069652</td>\n",
       "      <td>0.006984</td>\n",
       "      <td>-0.004053</td>\n",
       "      <td>0.006654</td>\n",
       "      <td>0.055045</td>\n",
       "      <td>0.048302</td>\n",
       "      <td>0.072728</td>\n",
       "      <td>0.084561</td>\n",
       "      <td>0.101774</td>\n",
       "      <td>...</td>\n",
       "      <td>0.127234</td>\n",
       "      <td>0.008239</td>\n",
       "      <td>0.047728</td>\n",
       "      <td>-0.101488</td>\n",
       "      <td>-0.003372</td>\n",
       "      <td>0.009063</td>\n",
       "      <td>0.052418</td>\n",
       "      <td>0.384076</td>\n",
       "      <td>1.000000</td>\n",
       "      <td>0.940916</td>\n",
       "    </tr>\n",
       "    <tr>\n",
       "      <th>90_target</th>\n",
       "      <td>0.060428</td>\n",
       "      <td>0.061560</td>\n",
       "      <td>-0.006650</td>\n",
       "      <td>0.012093</td>\n",
       "      <td>-0.011307</td>\n",
       "      <td>0.043786</td>\n",
       "      <td>0.043491</td>\n",
       "      <td>0.077710</td>\n",
       "      <td>0.088271</td>\n",
       "      <td>0.108077</td>\n",
       "      <td>...</td>\n",
       "      <td>0.124265</td>\n",
       "      <td>0.018379</td>\n",
       "      <td>0.049615</td>\n",
       "      <td>-0.096903</td>\n",
       "      <td>-0.007689</td>\n",
       "      <td>-0.002519</td>\n",
       "      <td>0.043563</td>\n",
       "      <td>0.355950</td>\n",
       "      <td>0.940916</td>\n",
       "      <td>1.000000</td>\n",
       "    </tr>\n",
       "  </tbody>\n",
       "</table>\n",
       "<p>133 rows × 133 columns</p>\n",
       "</div>"
      ],
      "text/plain": [
       "              ind_5     ind_6     ind_8     ind_9    ind_10    ind_12  \\\n",
       "ind_5      1.000000  0.989945  0.543246 -0.533328  0.649225  0.822255   \n",
       "ind_6      0.989945  1.000000  0.514222 -0.495572  0.608947  0.768551   \n",
       "ind_8      0.543246  0.514222  1.000000 -0.374857  0.828650  0.583623   \n",
       "ind_9     -0.533328 -0.495572 -0.374857  1.000000 -0.829576 -0.609288   \n",
       "ind_10     0.649225  0.608947  0.828650 -0.829576  1.000000  0.719409   \n",
       "...             ...       ...       ...       ...       ...       ...   \n",
       "ind_426    0.626439  0.567359  0.593799 -0.631961  0.739227  0.776076   \n",
       "ind_428    0.817302  0.810371  0.445427 -0.450719  0.540428  0.807595   \n",
       "20_target  0.060969  0.062101 -0.004126 -0.031316  0.016423  0.042550   \n",
       "50_target  0.068989  0.069652  0.006984 -0.004053  0.006654  0.055045   \n",
       "90_target  0.060428  0.061560 -0.006650  0.012093 -0.011307  0.043786   \n",
       "\n",
       "             ind_13    ind_14    ind_15    ind_16  ...   ind_412   ind_414  \\\n",
       "ind_5      0.768234 -0.014502 -0.026336 -0.041130  ...  0.620106 -0.694619   \n",
       "ind_6      0.713870 -0.006066 -0.019393 -0.035795  ...  0.634679 -0.646983   \n",
       "ind_8      0.482220  0.162635  0.139612  0.038862  ...  0.275687 -0.489596   \n",
       "ind_9     -0.568581  0.238938  0.240048  0.152133  ... -0.276882  0.436275   \n",
       "ind_10     0.633753 -0.046312 -0.060849 -0.068450  ...  0.333229 -0.558311   \n",
       "...             ...       ...       ...       ...  ...       ...       ...   \n",
       "ind_426    0.700736 -0.066201 -0.066437 -0.051049  ...  0.293592 -0.571432   \n",
       "ind_428    0.727899  0.021970  0.016318  0.010361  ...  0.574646 -0.499656   \n",
       "20_target  0.041289  0.015320  0.012012  0.026881  ...  0.066637 -0.029005   \n",
       "50_target  0.048302  0.072728  0.084561  0.101774  ...  0.127234  0.008239   \n",
       "90_target  0.043491  0.077710  0.088271  0.108077  ...  0.124265  0.018379   \n",
       "\n",
       "            ind_416   ind_418   ind_424   ind_426   ind_428  20_target  \\\n",
       "ind_5     -0.304134 -0.620099  0.076169  0.626439  0.817302   0.060969   \n",
       "ind_6     -0.279922 -0.569657  0.021220  0.567359  0.810371   0.062101   \n",
       "ind_8     -0.277258 -0.432579  0.144795  0.593799  0.445427  -0.004126   \n",
       "ind_9      0.349318  0.505772 -0.173139 -0.631961 -0.450719  -0.031316   \n",
       "ind_10    -0.377913 -0.565931  0.191752  0.739227  0.540428   0.016423   \n",
       "...             ...       ...       ...       ...       ...        ...   \n",
       "ind_426   -0.356302 -0.594243  0.341017  1.000000  0.584754   0.019599   \n",
       "ind_428   -0.260048 -0.487564  0.188853  0.584754  1.000000   0.047041   \n",
       "20_target -0.009829 -0.045656 -0.008799  0.019599  0.047041   1.000000   \n",
       "50_target  0.047728 -0.101488 -0.003372  0.009063  0.052418   0.384076   \n",
       "90_target  0.049615 -0.096903 -0.007689 -0.002519  0.043563   0.355950   \n",
       "\n",
       "           50_target  90_target  \n",
       "ind_5       0.068989   0.060428  \n",
       "ind_6       0.069652   0.061560  \n",
       "ind_8       0.006984  -0.006650  \n",
       "ind_9      -0.004053   0.012093  \n",
       "ind_10      0.006654  -0.011307  \n",
       "...              ...        ...  \n",
       "ind_426     0.009063  -0.002519  \n",
       "ind_428     0.052418   0.043563  \n",
       "20_target   0.384076   0.355950  \n",
       "50_target   1.000000   0.940916  \n",
       "90_target   0.940916   1.000000  \n",
       "\n",
       "[133 rows x 133 columns]"
      ]
     },
     "execution_count": 31,
     "metadata": {},
     "output_type": "execute_result"
    }
   ],
   "source": [
    "data.corr()"
   ]
  },
  {
   "cell_type": "code",
   "execution_count": 12,
   "metadata": {},
   "outputs": [
    {
     "data": {
      "text/plain": [
       "False"
      ]
     },
     "execution_count": 12,
     "metadata": {},
     "output_type": "execute_result"
    }
   ],
   "source": [
    "data.isnull().values.any()"
   ]
  },
  {
   "cell_type": "code",
   "execution_count": 19,
   "metadata": {},
   "outputs": [],
   "source": [
    "import scipy.stats as stats\n",
    "import pylab"
   ]
  },
  {
   "cell_type": "code",
   "execution_count": 71,
   "metadata": {},
   "outputs": [],
   "source": [
    "import scipy.stats as stats \n",
    "from scipy.stats import shapiro\n",
    "from scipy.stats import f_oneway\n",
    "import statsmodels.api as sm\n",
    "\n",
    "import numpy as np\n",
    "import math\n",
    "import matplotlib.pyplot as plt\n",
    "\n",
    "\n",
    "\n",
    "import pandas as pd\n",
    "import numpy as np\n",
    "import seaborn as sns\n",
    "import pylab\n",
    "import statsmodels.formula.api as smf\n",
    "\n",
    "from statsmodels.stats.outliers_influence import variance_inflation_factor\n",
    "from scipy.stats import shapiro\n",
    "from patsy import dmatrices\n",
    "\n",
    "from sklearn.linear_model import LinearRegression\n",
    "from sklearn.metrics import mean_squared_error,r2_score\n",
    "from sklearn.decomposition import PCA\n",
    "from sklearn.preprocessing import scale\n",
    "from sklearn.model_selection import train_test_split, cross_val_score, cross_val_predict"
   ]
  },
  {
   "cell_type": "code",
   "execution_count": 11,
   "metadata": {},
   "outputs": [
    {
     "name": "stdout",
     "output_type": "stream",
     "text": [
      "Shapiro Statistics=0.978, p=0.000\n",
      "\u001b[1mind_6:\u001b[0m Örneklem Normal (Gaussian) dağılımdan gelmemektedir (Reject H0)\n",
      "\n",
      "Shapiro Statistics=0.892, p=0.000\n",
      "\u001b[1mind_8:\u001b[0m Örneklem Normal (Gaussian) dağılımdan gelmemektedir (Reject H0)\n",
      "\n",
      "Shapiro Statistics=0.891, p=0.000\n",
      "\u001b[1mind_9:\u001b[0m Örneklem Normal (Gaussian) dağılımdan gelmemektedir (Reject H0)\n",
      "\n",
      "Shapiro Statistics=0.941, p=0.000\n",
      "\u001b[1mind_10:\u001b[0m Örneklem Normal (Gaussian) dağılımdan gelmemektedir (Reject H0)\n",
      "\n",
      "Shapiro Statistics=0.997, p=0.000\n",
      "\u001b[1mind_12:\u001b[0m Örneklem Normal (Gaussian) dağılımdan gelmemektedir (Reject H0)\n",
      "\n",
      "Shapiro Statistics=0.838, p=0.000\n",
      "\u001b[1mind_13:\u001b[0m Örneklem Normal (Gaussian) dağılımdan gelmemektedir (Reject H0)\n",
      "\n",
      "Shapiro Statistics=0.873, p=0.000\n",
      "\u001b[1mind_14:\u001b[0m Örneklem Normal (Gaussian) dağılımdan gelmemektedir (Reject H0)\n",
      "\n",
      "Shapiro Statistics=0.928, p=0.000\n",
      "\u001b[1mind_15:\u001b[0m Örneklem Normal (Gaussian) dağılımdan gelmemektedir (Reject H0)\n",
      "\n",
      "Shapiro Statistics=0.954, p=0.000\n",
      "\u001b[1mind_16:\u001b[0m Örneklem Normal (Gaussian) dağılımdan gelmemektedir (Reject H0)\n",
      "\n",
      "Shapiro Statistics=0.962, p=0.000\n",
      "\u001b[1mind_17:\u001b[0m Örneklem Normal (Gaussian) dağılımdan gelmemektedir (Reject H0)\n",
      "\n",
      "Shapiro Statistics=0.952, p=0.000\n",
      "\u001b[1mind_18:\u001b[0m Örneklem Normal (Gaussian) dağılımdan gelmemektedir (Reject H0)\n",
      "\n",
      "Shapiro Statistics=0.974, p=0.000\n",
      "\u001b[1mind_19:\u001b[0m Örneklem Normal (Gaussian) dağılımdan gelmemektedir (Reject H0)\n",
      "\n",
      "Shapiro Statistics=0.982, p=0.000\n",
      "\u001b[1mind_20:\u001b[0m Örneklem Normal (Gaussian) dağılımdan gelmemektedir (Reject H0)\n",
      "\n",
      "Shapiro Statistics=0.984, p=0.000\n",
      "\u001b[1mind_21:\u001b[0m Örneklem Normal (Gaussian) dağılımdan gelmemektedir (Reject H0)\n",
      "\n",
      "Shapiro Statistics=0.801, p=0.000\n",
      "\u001b[1mind_22:\u001b[0m Örneklem Normal (Gaussian) dağılımdan gelmemektedir (Reject H0)\n",
      "\n",
      "Shapiro Statistics=0.870, p=0.000\n",
      "\u001b[1mind_23:\u001b[0m Örneklem Normal (Gaussian) dağılımdan gelmemektedir (Reject H0)\n",
      "\n",
      "Shapiro Statistics=0.828, p=0.000\n",
      "\u001b[1mind_25:\u001b[0m Örneklem Normal (Gaussian) dağılımdan gelmemektedir (Reject H0)\n",
      "\n",
      "Shapiro Statistics=0.879, p=0.000\n",
      "\u001b[1mind_26:\u001b[0m Örneklem Normal (Gaussian) dağılımdan gelmemektedir (Reject H0)\n",
      "\n",
      "Shapiro Statistics=0.931, p=0.000\n",
      "\u001b[1mind_27:\u001b[0m Örneklem Normal (Gaussian) dağılımdan gelmemektedir (Reject H0)\n",
      "\n",
      "Shapiro Statistics=0.640, p=0.000\n",
      "\u001b[1mind_28:\u001b[0m Örneklem Normal (Gaussian) dağılımdan gelmemektedir (Reject H0)\n",
      "\n",
      "Shapiro Statistics=0.951, p=0.000\n",
      "\u001b[1mind_29:\u001b[0m Örneklem Normal (Gaussian) dağılımdan gelmemektedir (Reject H0)\n",
      "\n",
      "Shapiro Statistics=0.991, p=0.000\n",
      "\u001b[1mind_30:\u001b[0m Örneklem Normal (Gaussian) dağılımdan gelmemektedir (Reject H0)\n",
      "\n",
      "Shapiro Statistics=0.995, p=0.000\n",
      "\u001b[1mind_31:\u001b[0m Örneklem Normal (Gaussian) dağılımdan gelmemektedir (Reject H0)\n",
      "\n",
      "Shapiro Statistics=0.996, p=0.000\n",
      "\u001b[1mind_32:\u001b[0m Örneklem Normal (Gaussian) dağılımdan gelmemektedir (Reject H0)\n",
      "\n",
      "Shapiro Statistics=0.996, p=0.000\n",
      "\u001b[1mind_33:\u001b[0m Örneklem Normal (Gaussian) dağılımdan gelmemektedir (Reject H0)\n",
      "\n",
      "Shapiro Statistics=0.995, p=0.000\n",
      "\u001b[1mind_34:\u001b[0m Örneklem Normal (Gaussian) dağılımdan gelmemektedir (Reject H0)\n",
      "\n",
      "Shapiro Statistics=0.995, p=0.000\n",
      "\u001b[1mind_35:\u001b[0m Örneklem Normal (Gaussian) dağılımdan gelmemektedir (Reject H0)\n",
      "\n",
      "Shapiro Statistics=0.992, p=0.000\n",
      "\u001b[1mind_36:\u001b[0m Örneklem Normal (Gaussian) dağılımdan gelmemektedir (Reject H0)\n",
      "\n",
      "Shapiro Statistics=0.990, p=0.000\n",
      "\u001b[1mind_37:\u001b[0m Örneklem Normal (Gaussian) dağılımdan gelmemektedir (Reject H0)\n",
      "\n",
      "Shapiro Statistics=0.995, p=0.000\n",
      "\u001b[1mind_39:\u001b[0m Örneklem Normal (Gaussian) dağılımdan gelmemektedir (Reject H0)\n",
      "\n",
      "Shapiro Statistics=0.840, p=0.000\n",
      "\u001b[1mind_40:\u001b[0m Örneklem Normal (Gaussian) dağılımdan gelmemektedir (Reject H0)\n",
      "\n",
      "Shapiro Statistics=0.997, p=0.000\n",
      "\u001b[1mind_41:\u001b[0m Örneklem Normal (Gaussian) dağılımdan gelmemektedir (Reject H0)\n",
      "\n",
      "Shapiro Statistics=0.946, p=0.000\n",
      "\u001b[1mind_42:\u001b[0m Örneklem Normal (Gaussian) dağılımdan gelmemektedir (Reject H0)\n",
      "\n",
      "Shapiro Statistics=0.959, p=0.000\n",
      "\u001b[1mind_43:\u001b[0m Örneklem Normal (Gaussian) dağılımdan gelmemektedir (Reject H0)\n",
      "\n",
      "Shapiro Statistics=0.971, p=0.000\n",
      "\u001b[1mind_44:\u001b[0m Örneklem Normal (Gaussian) dağılımdan gelmemektedir (Reject H0)\n",
      "\n",
      "Shapiro Statistics=0.980, p=0.000\n",
      "\u001b[1mind_45:\u001b[0m Örneklem Normal (Gaussian) dağılımdan gelmemektedir (Reject H0)\n",
      "\n",
      "Shapiro Statistics=0.985, p=0.000\n",
      "\u001b[1mind_46:\u001b[0m Örneklem Normal (Gaussian) dağılımdan gelmemektedir (Reject H0)\n",
      "\n",
      "Shapiro Statistics=0.993, p=0.000\n",
      "\u001b[1mind_47:\u001b[0m Örneklem Normal (Gaussian) dağılımdan gelmemektedir (Reject H0)\n",
      "\n",
      "Shapiro Statistics=0.995, p=0.000\n",
      "\u001b[1mind_48:\u001b[0m Örneklem Normal (Gaussian) dağılımdan gelmemektedir (Reject H0)\n",
      "\n",
      "Shapiro Statistics=0.996, p=0.000\n",
      "\u001b[1mind_49:\u001b[0m Örneklem Normal (Gaussian) dağılımdan gelmemektedir (Reject H0)\n",
      "\n",
      "Shapiro Statistics=0.995, p=0.000\n",
      "\u001b[1mind_50:\u001b[0m Örneklem Normal (Gaussian) dağılımdan gelmemektedir (Reject H0)\n",
      "\n",
      "Shapiro Statistics=0.990, p=0.000\n",
      "\u001b[1mind_51:\u001b[0m Örneklem Normal (Gaussian) dağılımdan gelmemektedir (Reject H0)\n",
      "\n",
      "Shapiro Statistics=0.932, p=0.000\n",
      "\u001b[1mind_52:\u001b[0m Örneklem Normal (Gaussian) dağılımdan gelmemektedir (Reject H0)\n",
      "\n",
      "Shapiro Statistics=0.974, p=0.000\n",
      "\u001b[1mind_53:\u001b[0m Örneklem Normal (Gaussian) dağılımdan gelmemektedir (Reject H0)\n",
      "\n",
      "Shapiro Statistics=0.985, p=0.000\n",
      "\u001b[1mind_56:\u001b[0m Örneklem Normal (Gaussian) dağılımdan gelmemektedir (Reject H0)\n",
      "\n",
      "Shapiro Statistics=0.953, p=0.000\n",
      "\u001b[1mind_58:\u001b[0m Örneklem Normal (Gaussian) dağılımdan gelmemektedir (Reject H0)\n",
      "\n",
      "Shapiro Statistics=0.968, p=0.000\n",
      "\u001b[1mind_61:\u001b[0m Örneklem Normal (Gaussian) dağılımdan gelmemektedir (Reject H0)\n",
      "\n",
      "Shapiro Statistics=0.909, p=0.000\n",
      "\u001b[1mind_62:\u001b[0m Örneklem Normal (Gaussian) dağılımdan gelmemektedir (Reject H0)\n",
      "\n",
      "Shapiro Statistics=0.879, p=0.000\n",
      "\u001b[1mind_65:\u001b[0m Örneklem Normal (Gaussian) dağılımdan gelmemektedir (Reject H0)\n",
      "\n",
      "Shapiro Statistics=0.976, p=0.000\n",
      "\u001b[1mind_67:\u001b[0m Örneklem Normal (Gaussian) dağılımdan gelmemektedir (Reject H0)\n",
      "\n",
      "Shapiro Statistics=0.974, p=0.000\n",
      "\u001b[1mind_70:\u001b[0m Örneklem Normal (Gaussian) dağılımdan gelmemektedir (Reject H0)\n",
      "\n",
      "Shapiro Statistics=0.833, p=0.000\n",
      "\u001b[1mind_71:\u001b[0m Örneklem Normal (Gaussian) dağılımdan gelmemektedir (Reject H0)\n",
      "\n",
      "Shapiro Statistics=0.819, p=0.000\n",
      "\u001b[1mind_74:\u001b[0m Örneklem Normal (Gaussian) dağılımdan gelmemektedir (Reject H0)\n",
      "\n",
      "Shapiro Statistics=0.808, p=0.000\n",
      "\u001b[1mind_77:\u001b[0m Örneklem Normal (Gaussian) dağılımdan gelmemektedir (Reject H0)\n",
      "\n",
      "Shapiro Statistics=0.904, p=0.000\n",
      "\u001b[1mind_82:\u001b[0m Örneklem Normal (Gaussian) dağılımdan gelmemektedir (Reject H0)\n",
      "\n",
      "Shapiro Statistics=0.777, p=0.000\n",
      "\u001b[1mind_83:\u001b[0m Örneklem Normal (Gaussian) dağılımdan gelmemektedir (Reject H0)\n",
      "\n",
      "Shapiro Statistics=0.712, p=0.000\n",
      "\u001b[1mind_88:\u001b[0m Örneklem Normal (Gaussian) dağılımdan gelmemektedir (Reject H0)\n",
      "\n",
      "Shapiro Statistics=0.933, p=0.000\n",
      "\u001b[1mind_92:\u001b[0m Örneklem Normal (Gaussian) dağılımdan gelmemektedir (Reject H0)\n",
      "\n",
      "Shapiro Statistics=0.983, p=0.000\n",
      "\u001b[1mind_102:\u001b[0m Örneklem Normal (Gaussian) dağılımdan gelmemektedir (Reject H0)\n",
      "\n",
      "Shapiro Statistics=0.977, p=0.000\n",
      "\u001b[1mind_116:\u001b[0m Örneklem Normal (Gaussian) dağılımdan gelmemektedir (Reject H0)\n",
      "\n",
      "Shapiro Statistics=0.987, p=0.000\n",
      "\u001b[1mind_118:\u001b[0m Örneklem Normal (Gaussian) dağılımdan gelmemektedir (Reject H0)\n",
      "\n",
      "Shapiro Statistics=0.923, p=0.000\n",
      "\u001b[1mind_122:\u001b[0m Örneklem Normal (Gaussian) dağılımdan gelmemektedir (Reject H0)\n",
      "\n",
      "Shapiro Statistics=0.945, p=0.000\n",
      "\u001b[1mind_124:\u001b[0m Örneklem Normal (Gaussian) dağılımdan gelmemektedir (Reject H0)\n",
      "\n",
      "Shapiro Statistics=0.984, p=0.000\n",
      "\u001b[1mind_128:\u001b[0m Örneklem Normal (Gaussian) dağılımdan gelmemektedir (Reject H0)\n",
      "\n",
      "Shapiro Statistics=0.996, p=0.000\n",
      "\u001b[1mind_130:\u001b[0m Örneklem Normal (Gaussian) dağılımdan gelmemektedir (Reject H0)\n",
      "\n",
      "Shapiro Statistics=0.987, p=0.000\n",
      "\u001b[1mind_132:\u001b[0m Örneklem Normal (Gaussian) dağılımdan gelmemektedir (Reject H0)\n",
      "\n",
      "Shapiro Statistics=0.874, p=0.000\n",
      "\u001b[1mind_134:\u001b[0m Örneklem Normal (Gaussian) dağılımdan gelmemektedir (Reject H0)\n",
      "\n",
      "Shapiro Statistics=0.926, p=0.000\n",
      "\u001b[1mind_136:\u001b[0m Örneklem Normal (Gaussian) dağılımdan gelmemektedir (Reject H0)\n",
      "\n",
      "Shapiro Statistics=0.995, p=0.000\n",
      "\u001b[1mind_139:\u001b[0m Örneklem Normal (Gaussian) dağılımdan gelmemektedir (Reject H0)\n",
      "\n",
      "Shapiro Statistics=0.994, p=0.000\n",
      "\u001b[1mind_142:\u001b[0m Örneklem Normal (Gaussian) dağılımdan gelmemektedir (Reject H0)\n",
      "\n",
      "Shapiro Statistics=0.967, p=0.000\n",
      "\u001b[1mind_145:\u001b[0m Örneklem Normal (Gaussian) dağılımdan gelmemektedir (Reject H0)\n",
      "\n",
      "Shapiro Statistics=0.992, p=0.000\n",
      "\u001b[1mind_147:\u001b[0m Örneklem Normal (Gaussian) dağılımdan gelmemektedir (Reject H0)\n",
      "\n",
      "Shapiro Statistics=0.997, p=0.000\n",
      "\u001b[1mind_150:\u001b[0m Örneklem Normal (Gaussian) dağılımdan gelmemektedir (Reject H0)\n",
      "\n",
      "Shapiro Statistics=0.995, p=0.000\n",
      "\u001b[1mind_153:\u001b[0m Örneklem Normal (Gaussian) dağılımdan gelmemektedir (Reject H0)\n",
      "\n",
      "Shapiro Statistics=0.991, p=0.000\n",
      "\u001b[1mind_156:\u001b[0m Örneklem Normal (Gaussian) dağılımdan gelmemektedir (Reject H0)\n",
      "\n",
      "Shapiro Statistics=0.966, p=0.000\n",
      "\u001b[1mind_164:\u001b[0m Örneklem Normal (Gaussian) dağılımdan gelmemektedir (Reject H0)\n",
      "\n",
      "Shapiro Statistics=0.972, p=0.000\n",
      "\u001b[1mind_168:\u001b[0m Örneklem Normal (Gaussian) dağılımdan gelmemektedir (Reject H0)\n",
      "\n",
      "Shapiro Statistics=0.989, p=0.000\n",
      "\u001b[1mind_172:\u001b[0m Örneklem Normal (Gaussian) dağılımdan gelmemektedir (Reject H0)\n",
      "\n",
      "Shapiro Statistics=0.997, p=0.000\n",
      "\u001b[1mind_176:\u001b[0m Örneklem Normal (Gaussian) dağılımdan gelmemektedir (Reject H0)\n",
      "\n",
      "Shapiro Statistics=0.933, p=0.000\n",
      "\u001b[1mind_179:\u001b[0m Örneklem Normal (Gaussian) dağılımdan gelmemektedir (Reject H0)\n",
      "\n",
      "Shapiro Statistics=0.947, p=0.000\n",
      "\u001b[1mind_181:\u001b[0m Örneklem Normal (Gaussian) dağılımdan gelmemektedir (Reject H0)\n",
      "\n",
      "Shapiro Statistics=0.952, p=0.000\n",
      "\u001b[1mind_188:\u001b[0m Örneklem Normal (Gaussian) dağılımdan gelmemektedir (Reject H0)\n",
      "\n",
      "Shapiro Statistics=0.948, p=0.000\n",
      "\u001b[1mind_194:\u001b[0m Örneklem Normal (Gaussian) dağılımdan gelmemektedir (Reject H0)\n",
      "\n",
      "Shapiro Statistics=0.904, p=0.000\n",
      "\u001b[1mind_212:\u001b[0m Örneklem Normal (Gaussian) dağılımdan gelmemektedir (Reject H0)\n",
      "\n",
      "Shapiro Statistics=0.828, p=0.000\n",
      "\u001b[1mind_217:\u001b[0m Örneklem Normal (Gaussian) dağılımdan gelmemektedir (Reject H0)\n",
      "\n",
      "Shapiro Statistics=0.400, p=0.000\n",
      "\u001b[1mind_225:\u001b[0m Örneklem Normal (Gaussian) dağılımdan gelmemektedir (Reject H0)\n",
      "\n",
      "Shapiro Statistics=0.196, p=0.000\n",
      "\u001b[1mind_228:\u001b[0m Örneklem Normal (Gaussian) dağılımdan gelmemektedir (Reject H0)\n",
      "\n",
      "Shapiro Statistics=0.398, p=0.000\n",
      "\u001b[1mind_234:\u001b[0m Örneklem Normal (Gaussian) dağılımdan gelmemektedir (Reject H0)\n",
      "\n",
      "Shapiro Statistics=0.898, p=0.000\n",
      "\u001b[1mind_237:\u001b[0m Örneklem Normal (Gaussian) dağılımdan gelmemektedir (Reject H0)\n",
      "\n",
      "Shapiro Statistics=0.417, p=0.000\n",
      "\u001b[1mind_239:\u001b[0m Örneklem Normal (Gaussian) dağılımdan gelmemektedir (Reject H0)\n",
      "\n",
      "Shapiro Statistics=0.390, p=0.000\n",
      "\u001b[1mind_241:\u001b[0m Örneklem Normal (Gaussian) dağılımdan gelmemektedir (Reject H0)\n",
      "\n",
      "Shapiro Statistics=0.413, p=0.000\n",
      "\u001b[1mind_243:\u001b[0m Örneklem Normal (Gaussian) dağılımdan gelmemektedir (Reject H0)\n",
      "\n",
      "Shapiro Statistics=0.437, p=0.000\n",
      "\u001b[1mind_309:\u001b[0m Örneklem Normal (Gaussian) dağılımdan gelmemektedir (Reject H0)\n",
      "\n",
      "Shapiro Statistics=0.838, p=0.000\n",
      "\u001b[1mind_310:\u001b[0m Örneklem Normal (Gaussian) dağılımdan gelmemektedir (Reject H0)\n",
      "\n",
      "Shapiro Statistics=0.232, p=0.000\n",
      "\u001b[1mind_311:\u001b[0m Örneklem Normal (Gaussian) dağılımdan gelmemektedir (Reject H0)\n",
      "\n",
      "Shapiro Statistics=0.266, p=0.000\n",
      "\u001b[1mind_313:\u001b[0m Örneklem Normal (Gaussian) dağılımdan gelmemektedir (Reject H0)\n",
      "\n",
      "Shapiro Statistics=0.806, p=0.000\n",
      "\u001b[1mind_315:\u001b[0m Örneklem Normal (Gaussian) dağılımdan gelmemektedir (Reject H0)\n",
      "\n",
      "Shapiro Statistics=0.493, p=0.000\n",
      "\u001b[1mind_316:\u001b[0m Örneklem Normal (Gaussian) dağılımdan gelmemektedir (Reject H0)\n",
      "\n",
      "Shapiro Statistics=0.515, p=0.000\n",
      "\u001b[1mind_318:\u001b[0m Örneklem Normal (Gaussian) dağılımdan gelmemektedir (Reject H0)\n",
      "\n",
      "Shapiro Statistics=0.591, p=0.000\n",
      "\u001b[1mind_321:\u001b[0m Örneklem Normal (Gaussian) dağılımdan gelmemektedir (Reject H0)\n",
      "\n",
      "Shapiro Statistics=0.600, p=0.000\n",
      "\u001b[1mind_324:\u001b[0m Örneklem Normal (Gaussian) dağılımdan gelmemektedir (Reject H0)\n",
      "\n",
      "Shapiro Statistics=0.683, p=0.000\n",
      "\u001b[1mind_327:\u001b[0m Örneklem Normal (Gaussian) dağılımdan gelmemektedir (Reject H0)\n",
      "\n",
      "Shapiro Statistics=0.407, p=0.000\n",
      "\u001b[1mind_330:\u001b[0m Örneklem Normal (Gaussian) dağılımdan gelmemektedir (Reject H0)\n",
      "\n",
      "Shapiro Statistics=0.537, p=0.000\n",
      "\u001b[1mind_332:\u001b[0m Örneklem Normal (Gaussian) dağılımdan gelmemektedir (Reject H0)\n",
      "\n",
      "Shapiro Statistics=0.335, p=0.000\n",
      "\u001b[1mind_334:\u001b[0m Örneklem Normal (Gaussian) dağılımdan gelmemektedir (Reject H0)\n",
      "\n",
      "Shapiro Statistics=0.352, p=0.000\n",
      "\u001b[1mind_338:\u001b[0m Örneklem Normal (Gaussian) dağılımdan gelmemektedir (Reject H0)\n",
      "\n",
      "Shapiro Statistics=0.159, p=0.000\n",
      "\u001b[1mind_340:\u001b[0m Örneklem Normal (Gaussian) dağılımdan gelmemektedir (Reject H0)\n",
      "\n",
      "Shapiro Statistics=0.103, p=0.000\n",
      "\u001b[1mind_344:\u001b[0m Örneklem Normal (Gaussian) dağılımdan gelmemektedir (Reject H0)\n",
      "\n",
      "Shapiro Statistics=0.100, p=0.000\n",
      "\u001b[1mind_345:\u001b[0m Örneklem Normal (Gaussian) dağılımdan gelmemektedir (Reject H0)\n",
      "\n",
      "Shapiro Statistics=0.105, p=0.000\n",
      "\u001b[1mind_347:\u001b[0m Örneklem Normal (Gaussian) dağılımdan gelmemektedir (Reject H0)\n",
      "\n",
      "Shapiro Statistics=0.022, p=0.000\n",
      "\u001b[1mind_349:\u001b[0m Örneklem Normal (Gaussian) dağılımdan gelmemektedir (Reject H0)\n",
      "\n",
      "Shapiro Statistics=0.025, p=0.000\n",
      "\u001b[1mind_351:\u001b[0m Örneklem Normal (Gaussian) dağılımdan gelmemektedir (Reject H0)\n",
      "\n",
      "Shapiro Statistics=0.020, p=0.000\n",
      "\u001b[1mind_352:\u001b[0m Örneklem Normal (Gaussian) dağılımdan gelmemektedir (Reject H0)\n",
      "\n",
      "Shapiro Statistics=0.948, p=0.000\n",
      "\u001b[1mind_387:\u001b[0m Örneklem Normal (Gaussian) dağılımdan gelmemektedir (Reject H0)\n",
      "\n",
      "Shapiro Statistics=0.964, p=0.000\n",
      "\u001b[1mind_392:\u001b[0m Örneklem Normal (Gaussian) dağılımdan gelmemektedir (Reject H0)\n",
      "\n",
      "Shapiro Statistics=0.885, p=0.000\n",
      "\u001b[1mind_397:\u001b[0m Örneklem Normal (Gaussian) dağılımdan gelmemektedir (Reject H0)\n",
      "\n",
      "Shapiro Statistics=0.948, p=0.000\n",
      "\u001b[1mind_399:\u001b[0m Örneklem Normal (Gaussian) dağılımdan gelmemektedir (Reject H0)\n",
      "\n",
      "Shapiro Statistics=0.961, p=0.000\n",
      "\u001b[1mind_403:\u001b[0m Örneklem Normal (Gaussian) dağılımdan gelmemektedir (Reject H0)\n",
      "\n",
      "Shapiro Statistics=0.961, p=0.000\n",
      "\u001b[1mind_404:\u001b[0m Örneklem Normal (Gaussian) dağılımdan gelmemektedir (Reject H0)\n",
      "\n",
      "Shapiro Statistics=0.981, p=0.000\n",
      "\u001b[1mind_406:\u001b[0m Örneklem Normal (Gaussian) dağılımdan gelmemektedir (Reject H0)\n",
      "\n",
      "Shapiro Statistics=0.933, p=0.000\n",
      "\u001b[1mind_407:\u001b[0m Örneklem Normal (Gaussian) dağılımdan gelmemektedir (Reject H0)\n",
      "\n",
      "Shapiro Statistics=0.943, p=0.000\n",
      "\u001b[1mind_410:\u001b[0m Örneklem Normal (Gaussian) dağılımdan gelmemektedir (Reject H0)\n",
      "\n",
      "Shapiro Statistics=0.985, p=0.000\n",
      "\u001b[1mind_412:\u001b[0m Örneklem Normal (Gaussian) dağılımdan gelmemektedir (Reject H0)\n",
      "\n",
      "Shapiro Statistics=0.802, p=0.000\n",
      "\u001b[1mind_414:\u001b[0m Örneklem Normal (Gaussian) dağılımdan gelmemektedir (Reject H0)\n",
      "\n",
      "Shapiro Statistics=0.610, p=0.000\n",
      "\u001b[1mind_416:\u001b[0m Örneklem Normal (Gaussian) dağılımdan gelmemektedir (Reject H0)\n",
      "\n",
      "Shapiro Statistics=0.869, p=0.000\n",
      "\u001b[1mind_418:\u001b[0m Örneklem Normal (Gaussian) dağılımdan gelmemektedir (Reject H0)\n",
      "\n",
      "Shapiro Statistics=0.801, p=0.000\n",
      "\u001b[1mind_424:\u001b[0m Örneklem Normal (Gaussian) dağılımdan gelmemektedir (Reject H0)\n",
      "\n",
      "Shapiro Statistics=0.986, p=0.000\n",
      "\u001b[1mind_426:\u001b[0m Örneklem Normal (Gaussian) dağılımdan gelmemektedir (Reject H0)\n",
      "\n",
      "Shapiro Statistics=0.993, p=0.000\n",
      "\u001b[1mind_428:\u001b[0m Örneklem Normal (Gaussian) dağılımdan gelmemektedir (Reject H0)\n",
      "\n",
      "Shapiro Statistics=0.687, p=0.000\n",
      "\u001b[1m20_target:\u001b[0m Örneklem Normal (Gaussian) dağılımdan gelmemektedir (Reject H0)\n",
      "\n",
      "Shapiro Statistics=0.692, p=0.000\n",
      "\u001b[1m50_target:\u001b[0m Örneklem Normal (Gaussian) dağılımdan gelmemektedir (Reject H0)\n",
      "\n",
      "Shapiro Statistics=0.661, p=0.000\n",
      "\u001b[1m90_target:\u001b[0m Örneklem Normal (Gaussian) dağılımdan gelmemektedir (Reject H0)\n",
      "\n"
     ]
    },
    {
     "name": "stderr",
     "output_type": "stream",
     "text": [
      "C:\\Users\\PC\\anaconda3\\lib\\site-packages\\scipy\\stats\\morestats.py:1676: UserWarning: p-value may not be accurate for N > 5000.\n",
      "  warnings.warn(\"p-value may not be accurate for N > 5000.\")\n"
     ]
    }
   ],
   "source": [
    "for col in data.columns[1:]:           #bad hariç\n",
    "    if data[col].dtypes != object:\n",
    "        \n",
    "        stat, p = shapiro(data[col])\n",
    "\n",
    "        print('Shapiro Statistics=%.3f, p=%.3f' % (stat, p))\n",
    "\n",
    "        alpha = 0.05\n",
    "        if p > alpha:\n",
    "            print(col)\n",
    "            print('\\033[1m'+ col + '\\033[0m','Örneklem Normal (Gaussian) dağılımdan gelmektedir (fail to Reject) \\n')\n",
    "        else:\n",
    "            print('\\033[1m'+ col + \":\"+'\\033[0m','Örneklem Normal (Gaussian) dağılımdan gelmemektedir (Reject H0)\\n')"
   ]
  },
  {
   "cell_type": "code",
   "execution_count": 7,
   "metadata": {},
   "outputs": [
    {
     "data": {
      "text/html": [
       "<div>\n",
       "<style scoped>\n",
       "    .dataframe tbody tr th:only-of-type {\n",
       "        vertical-align: middle;\n",
       "    }\n",
       "\n",
       "    .dataframe tbody tr th {\n",
       "        vertical-align: top;\n",
       "    }\n",
       "\n",
       "    .dataframe thead th {\n",
       "        text-align: right;\n",
       "    }\n",
       "</style>\n",
       "<table border=\"1\" class=\"dataframe\">\n",
       "  <thead>\n",
       "    <tr style=\"text-align: right;\">\n",
       "      <th>col_0</th>\n",
       "      <th>count</th>\n",
       "      <th>frequency</th>\n",
       "    </tr>\n",
       "    <tr>\n",
       "      <th>90_target</th>\n",
       "      <th></th>\n",
       "      <th></th>\n",
       "    </tr>\n",
       "  </thead>\n",
       "  <tbody>\n",
       "    <tr>\n",
       "      <th>-38.573858</th>\n",
       "      <td>2</td>\n",
       "      <td>0.000324</td>\n",
       "    </tr>\n",
       "    <tr>\n",
       "      <th>-38.572936</th>\n",
       "      <td>1</td>\n",
       "      <td>0.000162</td>\n",
       "    </tr>\n",
       "    <tr>\n",
       "      <th>-38.558488</th>\n",
       "      <td>2</td>\n",
       "      <td>0.000324</td>\n",
       "    </tr>\n",
       "    <tr>\n",
       "      <th>-38.544962</th>\n",
       "      <td>1</td>\n",
       "      <td>0.000162</td>\n",
       "    </tr>\n",
       "    <tr>\n",
       "      <th>-38.543117</th>\n",
       "      <td>1</td>\n",
       "      <td>0.000162</td>\n",
       "    </tr>\n",
       "    <tr>\n",
       "      <th>...</th>\n",
       "      <td>...</td>\n",
       "      <td>...</td>\n",
       "    </tr>\n",
       "    <tr>\n",
       "      <th>38.438904</th>\n",
       "      <td>1</td>\n",
       "      <td>0.000162</td>\n",
       "    </tr>\n",
       "    <tr>\n",
       "      <th>38.442901</th>\n",
       "      <td>1</td>\n",
       "      <td>0.000162</td>\n",
       "    </tr>\n",
       "    <tr>\n",
       "      <th>38.447204</th>\n",
       "      <td>2</td>\n",
       "      <td>0.000324</td>\n",
       "    </tr>\n",
       "    <tr>\n",
       "      <th>38.447819</th>\n",
       "      <td>1</td>\n",
       "      <td>0.000162</td>\n",
       "    </tr>\n",
       "    <tr>\n",
       "      <th>38.465649</th>\n",
       "      <td>1</td>\n",
       "      <td>0.000162</td>\n",
       "    </tr>\n",
       "  </tbody>\n",
       "</table>\n",
       "<p>4487 rows × 2 columns</p>\n",
       "</div>"
      ],
      "text/plain": [
       "col_0       count  frequency\n",
       "90_target                   \n",
       "-38.573858      2   0.000324\n",
       "-38.572936      1   0.000162\n",
       "-38.558488      2   0.000324\n",
       "-38.544962      1   0.000162\n",
       "-38.543117      1   0.000162\n",
       "...           ...        ...\n",
       " 38.438904      1   0.000162\n",
       " 38.442901      1   0.000162\n",
       " 38.447204      2   0.000324\n",
       " 38.447819      1   0.000162\n",
       " 38.465649      1   0.000162\n",
       "\n",
       "[4487 rows x 2 columns]"
      ]
     },
     "execution_count": 7,
     "metadata": {},
     "output_type": "execute_result"
    }
   ],
   "source": [
    "count = pd.crosstab(data[\"90_target\"],columns=\"count\")\n",
    "pergentage = pd.crosstab(data[\"90_target\"], columns=\"frequency\")/pd.crosstab(data[\"90_target\"],columns=\"frequency\").sum()\n",
    "pd.concat([count,pergentage], axis=1)"
   ]
  },
  {
   "cell_type": "code",
   "execution_count": 41,
   "metadata": {},
   "outputs": [
    {
     "data": {
      "image/png": "[encoded data removed]",
      "text/plain": [
       "<Figure size 432x288 with 1 Axes>"
      ]
     },
     "metadata": {
      "needs_background": "light"
     },
     "output_type": "display_data"
    }
   ],
   "source": [
    "import pylab\n",
    "import statsmodels.api as sm\n",
    "sm.qqplot(data['50_target'],line='s')\n",
    "pylab.show()"
   ]
  },
  {
   "cell_type": "code",
   "execution_count": 17,
   "metadata": {},
   "outputs": [
    {
     "data": {
      "image/png": "[encoded data removed]",
      "text/plain": [
       "<Figure size 432x288 with 1 Axes>"
      ]
     },
     "metadata": {
      "needs_background": "light"
     },
     "output_type": "display_data"
    }
   ],
   "source": [
    "import pylab\n",
    "import statsmodels.api as sm\n",
    "sm.qqplot(data['90_target'],line='s')\n",
    "pylab.show()"
   ]
  },
  {
   "cell_type": "code",
   "execution_count": 19,
   "metadata": {},
   "outputs": [
    {
     "data": {
      "text/plain": [
       "Text(0, 0.5, '90_target')"
      ]
     },
     "execution_count": 19,
     "metadata": {},
     "output_type": "execute_result"
    },
    {
     "data": {
      "image/png": "[encoded data removed]",
      "text/plain": [
       "<Figure size 432x288 with 1 Axes>"
      ]
     },
     "metadata": {
      "needs_background": "light"
     },
     "output_type": "display_data"
    }
   ],
   "source": [
    "plt.title('Relationship between 50_target and 90_target', color=\"blue\")\n",
    "plt.scatter(data['50_target'], data['90_target'], color=\"green\")\n",
    "plt.xlabel(\"50_target\", color=\"red\")\n",
    "plt.ylabel(\"90_target\", color=\"red\")"
   ]
  },
  {
   "cell_type": "code",
   "execution_count": 43,
   "metadata": {},
   "outputs": [
    {
     "data": {
      "text/plain": [
       "Ttest_indResult(statistic=-0.6353948302621644, pvalue=0.5251827285261892)"
      ]
     },
     "execution_count": 43,
     "metadata": {},
     "output_type": "execute_result"
    }
   ],
   "source": [
    "stats.ttest_ind(data['90_target'],data['50_target'],equal_var=True)"
   ]
  },
  {
   "cell_type": "code",
   "execution_count": 57,
   "metadata": {},
   "outputs": [],
   "source": [
    "dropNames=[]\n",
    "leftColumnNumbers =[]\n",
    "for i in range (len(data.columns)):\n",
    "    \n",
    "    if (data.dtypes[i]==object):\n",
    "        dropNames.append(data.columns[i])\n",
    "        \n",
    "data=data.drop(columns=dropNames)"
   ]
  },
  {
   "cell_type": "code",
   "execution_count": 113,
   "metadata": {},
   "outputs": [],
   "source": [
    "data['90_target'] = pd.to_numeric(data['90_target'], errors='coerce')\n",
    "data['50_target'] = pd.to_numeric(data['50_target'], errors='coerce')"
   ]
  },
  {
   "cell_type": "code",
   "execution_count": 66,
   "metadata": {},
   "outputs": [
    {
     "data": {
      "text/html": [
       "<div>\n",
       "<style scoped>\n",
       "    .dataframe tbody tr th:only-of-type {\n",
       "        vertical-align: middle;\n",
       "    }\n",
       "\n",
       "    .dataframe tbody tr th {\n",
       "        vertical-align: top;\n",
       "    }\n",
       "\n",
       "    .dataframe thead th {\n",
       "        text-align: right;\n",
       "    }\n",
       "</style>\n",
       "<table border=\"1\" class=\"dataframe\">\n",
       "  <thead>\n",
       "    <tr style=\"text-align: right;\">\n",
       "      <th></th>\n",
       "      <th>90_target</th>\n",
       "    </tr>\n",
       "  </thead>\n",
       "  <tbody>\n",
       "    <tr>\n",
       "      <th>0</th>\n",
       "      <td>36.997753</td>\n",
       "    </tr>\n",
       "    <tr>\n",
       "      <th>1</th>\n",
       "      <td>37.016198</td>\n",
       "    </tr>\n",
       "    <tr>\n",
       "      <th>2</th>\n",
       "      <td>-37.024805</td>\n",
       "    </tr>\n",
       "    <tr>\n",
       "      <th>3</th>\n",
       "      <td>-37.040483</td>\n",
       "    </tr>\n",
       "    <tr>\n",
       "      <th>4</th>\n",
       "      <td>-37.103503</td>\n",
       "    </tr>\n",
       "  </tbody>\n",
       "</table>\n",
       "</div>"
      ],
      "text/plain": [
       "   90_target\n",
       "0  36.997753\n",
       "1  37.016198\n",
       "2 -37.024805\n",
       "3 -37.040483\n",
       "4 -37.103503"
      ]
     },
     "execution_count": 66,
     "metadata": {},
     "output_type": "execute_result"
    }
   ],
   "source": [
    "X=data[['90_target']]\n",
    "X[0:5]"
   ]
  },
  {
   "cell_type": "code",
   "execution_count": 67,
   "metadata": {},
   "outputs": [
    {
     "data": {
      "text/html": [
       "<div>\n",
       "<style scoped>\n",
       "    .dataframe tbody tr th:only-of-type {\n",
       "        vertical-align: middle;\n",
       "    }\n",
       "\n",
       "    .dataframe tbody tr th {\n",
       "        vertical-align: top;\n",
       "    }\n",
       "\n",
       "    .dataframe thead th {\n",
       "        text-align: right;\n",
       "    }\n",
       "</style>\n",
       "<table border=\"1\" class=\"dataframe\">\n",
       "  <thead>\n",
       "    <tr style=\"text-align: right;\">\n",
       "      <th></th>\n",
       "      <th>const</th>\n",
       "      <th>90_target</th>\n",
       "    </tr>\n",
       "  </thead>\n",
       "  <tbody>\n",
       "    <tr>\n",
       "      <th>0</th>\n",
       "      <td>1.0</td>\n",
       "      <td>36.997753</td>\n",
       "    </tr>\n",
       "    <tr>\n",
       "      <th>1</th>\n",
       "      <td>1.0</td>\n",
       "      <td>37.016198</td>\n",
       "    </tr>\n",
       "    <tr>\n",
       "      <th>2</th>\n",
       "      <td>1.0</td>\n",
       "      <td>-37.024805</td>\n",
       "    </tr>\n",
       "    <tr>\n",
       "      <th>3</th>\n",
       "      <td>1.0</td>\n",
       "      <td>-37.040483</td>\n",
       "    </tr>\n",
       "    <tr>\n",
       "      <th>4</th>\n",
       "      <td>1.0</td>\n",
       "      <td>-37.103503</td>\n",
       "    </tr>\n",
       "  </tbody>\n",
       "</table>\n",
       "</div>"
      ],
      "text/plain": [
       "   const  90_target\n",
       "0    1.0  36.997753\n",
       "1    1.0  37.016198\n",
       "2    1.0 -37.024805\n",
       "3    1.0 -37.040483\n",
       "4    1.0 -37.103503"
      ]
     },
     "execution_count": 67,
     "metadata": {},
     "output_type": "execute_result"
    }
   ],
   "source": [
    "X = sm.add_constant(X)\n",
    "X[0:5]"
   ]
  },
  {
   "cell_type": "code",
   "execution_count": 68,
   "metadata": {},
   "outputs": [
    {
     "data": {
      "text/plain": [
       "0    35.625252\n",
       "1    35.643013\n",
       "2    35.651301\n",
       "3     0.000000\n",
       "4   -35.727079\n",
       "Name: 50_target, dtype: float64"
      ]
     },
     "execution_count": 68,
     "metadata": {},
     "output_type": "execute_result"
    }
   ],
   "source": [
    "y = data['50_target']\n",
    "y[0:5]"
   ]
  },
  {
   "cell_type": "code",
   "execution_count": 116,
   "metadata": {},
   "outputs": [
    {
     "data": {
      "text/html": [
       "<table class=\"simpletable\">\n",
       "<caption>OLS Regression Results</caption>\n",
       "<tr>\n",
       "  <th>Dep. Variable:</th>        <td>50_target</td>    <th>  R-squared:         </th> <td>   0.885</td> \n",
       "</tr>\n",
       "<tr>\n",
       "  <th>Model:</th>                   <td>OLS</td>       <th>  Adj. R-squared:    </th> <td>   0.885</td> \n",
       "</tr>\n",
       "<tr>\n",
       "  <th>Method:</th>             <td>Least Squares</td>  <th>  F-statistic:       </th> <td>4.759e+04</td>\n",
       "</tr>\n",
       "<tr>\n",
       "  <th>Date:</th>             <td>Thu, 23 Jul 2020</td> <th>  Prob (F-statistic):</th>  <td>  0.00</td>  \n",
       "</tr>\n",
       "<tr>\n",
       "  <th>Time:</th>                 <td>16:07:56</td>     <th>  Log-Likelihood:    </th> <td> -23920.</td> \n",
       "</tr>\n",
       "<tr>\n",
       "  <th>No. Observations:</th>      <td>  6167</td>      <th>  AIC:               </th> <td>4.784e+04</td>\n",
       "</tr>\n",
       "<tr>\n",
       "  <th>Df Residuals:</th>          <td>  6165</td>      <th>  BIC:               </th> <td>4.786e+04</td>\n",
       "</tr>\n",
       "<tr>\n",
       "  <th>Df Model:</th>              <td>     1</td>      <th>                     </th>     <td> </td>    \n",
       "</tr>\n",
       "<tr>\n",
       "  <th>Covariance Type:</th>      <td>nonrobust</td>    <th>                     </th>     <td> </td>    \n",
       "</tr>\n",
       "</table>\n",
       "<table class=\"simpletable\">\n",
       "<tr>\n",
       "      <td></td>         <th>coef</th>     <th>std err</th>      <th>t</th>      <th>P>|t|</th>  <th>[0.025</th>    <th>0.975]</th>  \n",
       "</tr>\n",
       "<tr>\n",
       "  <th>const</th>     <td>    0.0197</td> <td>    0.150</td> <td>    0.131</td> <td> 0.895</td> <td>   -0.274</td> <td>    0.313</td>\n",
       "</tr>\n",
       "<tr>\n",
       "  <th>90_target</th> <td>    0.8826</td> <td>    0.004</td> <td>  218.162</td> <td> 0.000</td> <td>    0.875</td> <td>    0.891</td>\n",
       "</tr>\n",
       "</table>\n",
       "<table class=\"simpletable\">\n",
       "<tr>\n",
       "  <th>Omnibus:</th>       <td>1495.009</td> <th>  Durbin-Watson:     </th> <td>   1.113</td> \n",
       "</tr>\n",
       "<tr>\n",
       "  <th>Prob(Omnibus):</th>  <td> 0.000</td>  <th>  Jarque-Bera (JB):  </th> <td>83378.368</td>\n",
       "</tr>\n",
       "<tr>\n",
       "  <th>Skew:</th>           <td> 0.215</td>  <th>  Prob(JB):          </th> <td>    0.00</td> \n",
       "</tr>\n",
       "<tr>\n",
       "  <th>Kurtosis:</th>       <td>21.008</td>  <th>  Cond. No.          </th> <td>    37.1</td> \n",
       "</tr>\n",
       "</table><br/><br/>Warnings:<br/>[1] Standard Errors assume that the covariance matrix of the errors is correctly specified."
      ],
      "text/plain": [
       "<class 'statsmodels.iolib.summary.Summary'>\n",
       "\"\"\"\n",
       "                            OLS Regression Results                            \n",
       "==============================================================================\n",
       "Dep. Variable:              50_target   R-squared:                       0.885\n",
       "Model:                            OLS   Adj. R-squared:                  0.885\n",
       "Method:                 Least Squares   F-statistic:                 4.759e+04\n",
       "Date:                Thu, 23 Jul 2020   Prob (F-statistic):               0.00\n",
       "Time:                        16:07:56   Log-Likelihood:                -23920.\n",
       "No. Observations:                6167   AIC:                         4.784e+04\n",
       "Df Residuals:                    6165   BIC:                         4.786e+04\n",
       "Df Model:                           1                                         \n",
       "Covariance Type:            nonrobust                                         \n",
       "==============================================================================\n",
       "                 coef    std err          t      P>|t|      [0.025      0.975]\n",
       "------------------------------------------------------------------------------\n",
       "const          0.0197      0.150      0.131      0.895      -0.274       0.313\n",
       "90_target      0.8826      0.004    218.162      0.000       0.875       0.891\n",
       "==============================================================================\n",
       "Omnibus:                     1495.009   Durbin-Watson:                   1.113\n",
       "Prob(Omnibus):                  0.000   Jarque-Bera (JB):            83378.368\n",
       "Skew:                           0.215   Prob(JB):                         0.00\n",
       "Kurtosis:                      21.008   Cond. No.                         37.1\n",
       "==============================================================================\n",
       "\n",
       "Warnings:\n",
       "[1] Standard Errors assume that the covariance matrix of the errors is correctly specified.\n",
       "\"\"\""
      ]
     },
     "execution_count": 116,
     "metadata": {},
     "output_type": "execute_result"
    }
   ],
   "source": [
    "lm = sm.OLS(y,X)\n",
    "model = lm.fit()\n",
    "model.summary()"
   ]
  },
  {
   "cell_type": "code",
   "execution_count": 117,
   "metadata": {},
   "outputs": [
    {
     "data": {
      "text/plain": [
       "const        0.019660\n",
       "90_target    0.882641\n",
       "dtype: float64"
      ]
     },
     "execution_count": 117,
     "metadata": {},
     "output_type": "execute_result"
    }
   ],
   "source": [
    "model.params"
   ]
  },
  {
   "cell_type": "code",
   "execution_count": 118,
   "metadata": {},
   "outputs": [
    {
     "data": {
      "text/html": [
       "<table class=\"simpletable\">\n",
       "<tr>\n",
       "      <td></td>         <th>coef</th>     <th>std err</th>      <th>t</th>      <th>P>|t|</th>  <th>[0.025</th>    <th>0.975]</th>  \n",
       "</tr>\n",
       "<tr>\n",
       "  <th>const</th>     <td>    0.0197</td> <td>    0.150</td> <td>    0.131</td> <td> 0.895</td> <td>   -0.274</td> <td>    0.313</td>\n",
       "</tr>\n",
       "<tr>\n",
       "  <th>90_target</th> <td>    0.8826</td> <td>    0.004</td> <td>  218.162</td> <td> 0.000</td> <td>    0.875</td> <td>    0.891</td>\n",
       "</tr>\n",
       "</table>"
      ],
      "text/plain": [
       "<class 'statsmodels.iolib.table.SimpleTable'>"
      ]
     },
     "execution_count": 118,
     "metadata": {},
     "output_type": "execute_result"
    }
   ],
   "source": [
    "model.summary().tables[1]"
   ]
  },
  {
   "cell_type": "code",
   "execution_count": 119,
   "metadata": {},
   "outputs": [
    {
     "data": {
      "text/html": [
       "<div>\n",
       "<style scoped>\n",
       "    .dataframe tbody tr th:only-of-type {\n",
       "        vertical-align: middle;\n",
       "    }\n",
       "\n",
       "    .dataframe tbody tr th {\n",
       "        vertical-align: top;\n",
       "    }\n",
       "\n",
       "    .dataframe thead th {\n",
       "        text-align: right;\n",
       "    }\n",
       "</style>\n",
       "<table border=\"1\" class=\"dataframe\">\n",
       "  <thead>\n",
       "    <tr style=\"text-align: right;\">\n",
       "      <th></th>\n",
       "      <th>0</th>\n",
       "      <th>1</th>\n",
       "    </tr>\n",
       "  </thead>\n",
       "  <tbody>\n",
       "    <tr>\n",
       "      <th>const</th>\n",
       "      <td>-0.273694</td>\n",
       "      <td>0.313014</td>\n",
       "    </tr>\n",
       "    <tr>\n",
       "      <th>90_target</th>\n",
       "      <td>0.874710</td>\n",
       "      <td>0.890572</td>\n",
       "    </tr>\n",
       "  </tbody>\n",
       "</table>\n",
       "</div>"
      ],
      "text/plain": [
       "                  0         1\n",
       "const     -0.273694  0.313014\n",
       "90_target  0.874710  0.890572"
      ]
     },
     "execution_count": 119,
     "metadata": {},
     "output_type": "execute_result"
    }
   ],
   "source": [
    "model.conf_int()"
   ]
  },
  {
   "cell_type": "code",
   "execution_count": 126,
   "metadata": {},
   "outputs": [
    {
     "name": "stdout",
     "output_type": "stream",
     "text": [
      "f_pvalue          : 0.0000\n"
     ]
    }
   ],
   "source": [
    "model.f_pvalue\n",
    "print(\"f_pvalue          :\" , \"%.4f\" % model.f_pvalue)"
   ]
  },
  {
   "cell_type": "code",
   "execution_count": 78,
   "metadata": {},
   "outputs": [
    {
     "data": {
      "text/plain": [
       "0.8853042617946528"
      ]
     },
     "execution_count": 78,
     "metadata": {},
     "output_type": "execute_result"
    }
   ],
   "source": [
    "model.rsquared_adj"
   ]
  },
  {
   "cell_type": "code",
   "execution_count": 79,
   "metadata": {},
   "outputs": [
    {
     "data": {
      "text/plain": [
       "0    36.997753\n",
       "1    37.016198\n",
       "2   -37.024805\n",
       "3   -37.040483\n",
       "4   -37.103503\n",
       "Name: 90_target, dtype: float64"
      ]
     },
     "execution_count": 79,
     "metadata": {},
     "output_type": "execute_result"
    }
   ],
   "source": [
    "model.fittedvalues[0:5]\n",
    "X['90_target'][0:5]"
   ]
  },
  {
   "cell_type": "code",
   "execution_count": 127,
   "metadata": {},
   "outputs": [
    {
     "data": {
      "text/plain": [
       "0    35.625252\n",
       "1    35.643013\n",
       "2    35.651301\n",
       "3     0.000000\n",
       "4   -35.727079\n",
       "Name: 50_target, dtype: float64"
      ]
     },
     "execution_count": 127,
     "metadata": {},
     "output_type": "execute_result"
    }
   ],
   "source": [
    "y[0:5]"
   ]
  },
  {
   "cell_type": "code",
   "execution_count": 131,
   "metadata": {},
   "outputs": [],
   "source": [
    "\n",
    "y_predicted=[]\n",
    "for i in range(len(y)):\n",
    "    y_predicted.append(X['90_target'][i]*float(model.params[1])+float(model.params[0]))"
   ]
  },
  {
   "cell_type": "code",
   "execution_count": 132,
   "metadata": {},
   "outputs": [
    {
     "data": {
      "text/plain": [
       "[32.675384997998826,\n",
       " 32.691665104132376,\n",
       " -32.65994297974309,\n",
       " -32.67378107481114,\n",
       " -32.72940477003192]"
      ]
     },
     "execution_count": 132,
     "metadata": {},
     "output_type": "execute_result"
    }
   ],
   "source": [
    "y_predicted[0:5]"
   ]
  },
  {
   "cell_type": "code",
   "execution_count": 83,
   "metadata": {},
   "outputs": [],
   "source": [
    "diff=y_predicted-y"
   ]
  },
  {
   "cell_type": "code",
   "execution_count": 84,
   "metadata": {},
   "outputs": [
    {
     "data": {
      "text/plain": [
       "0    -2.949867\n",
       "1    -2.951348\n",
       "2   -68.311244\n",
       "3   -32.673781\n",
       "4     2.997674\n",
       "Name: 50_target, dtype: float64"
      ]
     },
     "execution_count": 84,
     "metadata": {},
     "output_type": "execute_result"
    }
   ],
   "source": [
    "diff[0:5]"
   ]
  },
  {
   "cell_type": "code",
   "execution_count": 88,
   "metadata": {},
   "outputs": [
    {
     "data": {
      "text/plain": [
       "0    32.675385\n",
       "1    32.691665\n",
       "2   -32.659943\n",
       "3   -32.673781\n",
       "4   -32.729405\n",
       "5   -32.724792\n",
       "6   -32.723435\n",
       "7   -32.716109\n",
       "8   -32.699015\n",
       "9   -32.704171\n",
       "dtype: float64"
      ]
     },
     "execution_count": 88,
     "metadata": {},
     "output_type": "execute_result"
    }
   ],
   "source": [
    "\n",
    "prediction=model.predict(X)\n",
    "prediction[0:10]"
   ]
  },
  {
   "cell_type": "code",
   "execution_count": 91,
   "metadata": {},
   "outputs": [],
   "source": [
    "error_data=prediction-y"
   ]
  },
  {
   "cell_type": "code",
   "execution_count": 92,
   "metadata": {},
   "outputs": [],
   "source": [
    "error_arr=error_data.values"
   ]
  },
  {
   "cell_type": "code",
   "execution_count": 93,
   "metadata": {},
   "outputs": [
    {
     "data": {
      "text/plain": [
       "136.96787619560297"
      ]
     },
     "execution_count": 93,
     "metadata": {},
     "output_type": "execute_result"
    }
   ],
   "source": [
    "error_data.var()"
   ]
  },
  {
   "cell_type": "code",
   "execution_count": 94,
   "metadata": {},
   "outputs": [
    {
     "data": {
      "text/plain": [
       "5.543612993765125"
      ]
     },
     "execution_count": 94,
     "metadata": {},
     "output_type": "execute_result"
    }
   ],
   "source": [
    "error_data.abs().mean()"
   ]
  },
  {
   "cell_type": "code",
   "execution_count": 103,
   "metadata": {},
   "outputs": [
    {
     "data": {
      "text/plain": [
       "136.9456663891824"
      ]
     },
     "execution_count": 103,
     "metadata": {},
     "output_type": "execute_result"
    }
   ],
   "source": [
    "mse= mean_squared_error(y, model.fittedvalues)\n",
    "mse"
   ]
  },
  {
   "cell_type": "code",
   "execution_count": 105,
   "metadata": {},
   "outputs": [],
   "source": [
    "reg = LinearRegression()\n",
    "model= reg.fit(X,y)"
   ]
  },
  {
   "cell_type": "code",
   "execution_count": 106,
   "metadata": {},
   "outputs": [
    {
     "name": "stdout",
     "output_type": "stream",
     "text": [
      "11.702378663723987\n",
      "0    35.625252\n",
      "1    35.643013\n",
      "2    35.651301\n",
      "3     0.000000\n",
      "4   -35.727079\n",
      "5   -35.722047\n",
      "6   -35.720567\n",
      "7   -35.712575\n",
      "8   -35.693926\n",
      "9   -35.699550\n",
      "Name: 50_target, dtype: float64\n"
     ]
    }
   ],
   "source": [
    "rmse=np.sqrt(mse)\n",
    "print(rmse)\n",
    "reg.predict(X)[0:10]\n",
    "print(y[0:10])"
   ]
  },
  {
   "cell_type": "code",
   "execution_count": 121,
   "metadata": {},
   "outputs": [],
   "source": [
    "k = pd.DataFrame({'gercek_y':y[0:10],'tahmin_y':reg.predict(X)[0:10]})"
   ]
  },
  {
   "cell_type": "code",
   "execution_count": 122,
   "metadata": {},
   "outputs": [
    {
     "data": {
      "text/html": [
       "<div>\n",
       "<style scoped>\n",
       "    .dataframe tbody tr th:only-of-type {\n",
       "        vertical-align: middle;\n",
       "    }\n",
       "\n",
       "    .dataframe tbody tr th {\n",
       "        vertical-align: top;\n",
       "    }\n",
       "\n",
       "    .dataframe thead th {\n",
       "        text-align: right;\n",
       "    }\n",
       "</style>\n",
       "<table border=\"1\" class=\"dataframe\">\n",
       "  <thead>\n",
       "    <tr style=\"text-align: right;\">\n",
       "      <th></th>\n",
       "      <th>gercek_y</th>\n",
       "      <th>tahmin_y</th>\n",
       "      <th>hata</th>\n",
       "    </tr>\n",
       "  </thead>\n",
       "  <tbody>\n",
       "    <tr>\n",
       "      <th>0</th>\n",
       "      <td>35.625252</td>\n",
       "      <td>32.675385</td>\n",
       "      <td>2.949867</td>\n",
       "    </tr>\n",
       "    <tr>\n",
       "      <th>1</th>\n",
       "      <td>35.643013</td>\n",
       "      <td>32.691665</td>\n",
       "      <td>2.951348</td>\n",
       "    </tr>\n",
       "    <tr>\n",
       "      <th>2</th>\n",
       "      <td>35.651301</td>\n",
       "      <td>-32.659943</td>\n",
       "      <td>68.311244</td>\n",
       "    </tr>\n",
       "    <tr>\n",
       "      <th>3</th>\n",
       "      <td>0.000000</td>\n",
       "      <td>-32.673781</td>\n",
       "      <td>32.673781</td>\n",
       "    </tr>\n",
       "    <tr>\n",
       "      <th>4</th>\n",
       "      <td>-35.727079</td>\n",
       "      <td>-32.729405</td>\n",
       "      <td>-2.997674</td>\n",
       "    </tr>\n",
       "    <tr>\n",
       "      <th>5</th>\n",
       "      <td>-35.722047</td>\n",
       "      <td>-32.724792</td>\n",
       "      <td>-2.997255</td>\n",
       "    </tr>\n",
       "    <tr>\n",
       "      <th>6</th>\n",
       "      <td>-35.720567</td>\n",
       "      <td>-32.723435</td>\n",
       "      <td>-2.997132</td>\n",
       "    </tr>\n",
       "    <tr>\n",
       "      <th>7</th>\n",
       "      <td>-35.712575</td>\n",
       "      <td>-32.716109</td>\n",
       "      <td>-2.996465</td>\n",
       "    </tr>\n",
       "    <tr>\n",
       "      <th>8</th>\n",
       "      <td>-35.693926</td>\n",
       "      <td>-32.699015</td>\n",
       "      <td>-2.994911</td>\n",
       "    </tr>\n",
       "    <tr>\n",
       "      <th>9</th>\n",
       "      <td>-35.699550</td>\n",
       "      <td>-32.704171</td>\n",
       "      <td>-2.995380</td>\n",
       "    </tr>\n",
       "  </tbody>\n",
       "</table>\n",
       "</div>"
      ],
      "text/plain": [
       "    gercek_y   tahmin_y       hata\n",
       "0  35.625252  32.675385   2.949867\n",
       "1  35.643013  32.691665   2.951348\n",
       "2  35.651301 -32.659943  68.311244\n",
       "3   0.000000 -32.673781  32.673781\n",
       "4 -35.727079 -32.729405  -2.997674\n",
       "5 -35.722047 -32.724792  -2.997255\n",
       "6 -35.720567 -32.723435  -2.997132\n",
       "7 -35.712575 -32.716109  -2.996465\n",
       "8 -35.693926 -32.699015  -2.994911\n",
       "9 -35.699550 -32.704171  -2.995380"
      ]
     },
     "execution_count": 122,
     "metadata": {},
     "output_type": "execute_result"
    }
   ],
   "source": [
    "k[\"hata\"] = k[\"gercek_y\"] - k[\"tahmin_y\"]\n",
    "k"
   ]
  },
  {
   "cell_type": "code",
   "execution_count": 123,
   "metadata": {},
   "outputs": [
    {
     "data": {
      "text/html": [
       "<div>\n",
       "<style scoped>\n",
       "    .dataframe tbody tr th:only-of-type {\n",
       "        vertical-align: middle;\n",
       "    }\n",
       "\n",
       "    .dataframe tbody tr th {\n",
       "        vertical-align: top;\n",
       "    }\n",
       "\n",
       "    .dataframe thead th {\n",
       "        text-align: right;\n",
       "    }\n",
       "</style>\n",
       "<table border=\"1\" class=\"dataframe\">\n",
       "  <thead>\n",
       "    <tr style=\"text-align: right;\">\n",
       "      <th></th>\n",
       "      <th>gercek_y</th>\n",
       "      <th>tahmin_y</th>\n",
       "      <th>hata</th>\n",
       "      <th>hata_kare</th>\n",
       "    </tr>\n",
       "  </thead>\n",
       "  <tbody>\n",
       "    <tr>\n",
       "      <th>0</th>\n",
       "      <td>35.625252</td>\n",
       "      <td>32.675385</td>\n",
       "      <td>2.949867</td>\n",
       "      <td>8.701716</td>\n",
       "    </tr>\n",
       "    <tr>\n",
       "      <th>1</th>\n",
       "      <td>35.643013</td>\n",
       "      <td>32.691665</td>\n",
       "      <td>2.951348</td>\n",
       "      <td>8.710453</td>\n",
       "    </tr>\n",
       "    <tr>\n",
       "      <th>2</th>\n",
       "      <td>35.651301</td>\n",
       "      <td>-32.659943</td>\n",
       "      <td>68.311244</td>\n",
       "      <td>4666.426046</td>\n",
       "    </tr>\n",
       "    <tr>\n",
       "      <th>3</th>\n",
       "      <td>0.000000</td>\n",
       "      <td>-32.673781</td>\n",
       "      <td>32.673781</td>\n",
       "      <td>1067.575970</td>\n",
       "    </tr>\n",
       "    <tr>\n",
       "      <th>4</th>\n",
       "      <td>-35.727079</td>\n",
       "      <td>-32.729405</td>\n",
       "      <td>-2.997674</td>\n",
       "      <td>8.986052</td>\n",
       "    </tr>\n",
       "    <tr>\n",
       "      <th>5</th>\n",
       "      <td>-35.722047</td>\n",
       "      <td>-32.724792</td>\n",
       "      <td>-2.997255</td>\n",
       "      <td>8.983537</td>\n",
       "    </tr>\n",
       "    <tr>\n",
       "      <th>6</th>\n",
       "      <td>-35.720567</td>\n",
       "      <td>-32.723435</td>\n",
       "      <td>-2.997132</td>\n",
       "      <td>8.982798</td>\n",
       "    </tr>\n",
       "    <tr>\n",
       "      <th>7</th>\n",
       "      <td>-35.712575</td>\n",
       "      <td>-32.716109</td>\n",
       "      <td>-2.996465</td>\n",
       "      <td>8.978805</td>\n",
       "    </tr>\n",
       "    <tr>\n",
       "      <th>8</th>\n",
       "      <td>-35.693926</td>\n",
       "      <td>-32.699015</td>\n",
       "      <td>-2.994911</td>\n",
       "      <td>8.969492</td>\n",
       "    </tr>\n",
       "    <tr>\n",
       "      <th>9</th>\n",
       "      <td>-35.699550</td>\n",
       "      <td>-32.704171</td>\n",
       "      <td>-2.995380</td>\n",
       "      <td>8.972300</td>\n",
       "    </tr>\n",
       "  </tbody>\n",
       "</table>\n",
       "</div>"
      ],
      "text/plain": [
       "    gercek_y   tahmin_y       hata    hata_kare\n",
       "0  35.625252  32.675385   2.949867     8.701716\n",
       "1  35.643013  32.691665   2.951348     8.710453\n",
       "2  35.651301 -32.659943  68.311244  4666.426046\n",
       "3   0.000000 -32.673781  32.673781  1067.575970\n",
       "4 -35.727079 -32.729405  -2.997674     8.986052\n",
       "5 -35.722047 -32.724792  -2.997255     8.983537\n",
       "6 -35.720567 -32.723435  -2.997132     8.982798\n",
       "7 -35.712575 -32.716109  -2.996465     8.978805\n",
       "8 -35.693926 -32.699015  -2.994911     8.969492\n",
       "9 -35.699550 -32.704171  -2.995380     8.972300"
      ]
     },
     "execution_count": 123,
     "metadata": {},
     "output_type": "execute_result"
    }
   ],
   "source": [
    "k[\"hata_kare\"] = k[\"hata\"]**2\n",
    "k"
   ]
  },
  {
   "cell_type": "code",
   "execution_count": 124,
   "metadata": {},
   "outputs": [
    {
     "name": "stdout",
     "output_type": "stream",
     "text": [
      "5805.287168389224\n",
      "580.5287168389224\n",
      "12.48650569170365\n",
      "24.094163543043415\n"
     ]
    }
   ],
   "source": [
    "print (np.sum(k['hata_kare']))\n",
    "print (np.mean(k['hata_kare']))\n",
    "print (np.average(((k['hata']).abs())))\n",
    "print (np.sqrt(np.mean(k['hata_kare'])))"
   ]
  },
  {
   "cell_type": "code",
   "execution_count": null,
   "metadata": {},
   "outputs": [],
   "source": []
  }
 ],
 "metadata": {
  "kernelspec": {
   "display_name": "Python 3",
   "language": "python",
   "name": "python3"
  },
  "language_info": {
   "codemirror_mode": {
    "name": "ipython",
    "version": 3
   },
   "file_extension": ".py",
   "mimetype": "text/x-python",
   "name": "python",
   "nbconvert_exporter": "python",
   "pygments_lexer": "ipython3",
   "version": "3.7.6"
  }
 },
 "nbformat": 4,
 "nbformat_minor": 4
}
